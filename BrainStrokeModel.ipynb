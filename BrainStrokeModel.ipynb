{
  "cells": [
    {
      "cell_type": "code",
      "execution_count": 149,
      "metadata": {
        "id": "oY7cMTxs59ZQ"
      },
      "outputs": [],
      "source": [
        "import pandas as pd\n",
        "import numpy as np\n",
        "import seaborn as sns\n",
        "import matplotlib.pyplot as plt\n"
      ]
    },
    {
      "cell_type": "code",
      "execution_count": 150,
      "metadata": {
        "id": "qb1vVyDb6PF3"
      },
      "outputs": [],
      "source": [
        "train_df = pd.read_csv(r\"C:/Users/saura/Downloads/brainStroke/train.csv\")\n",
        "test_df = pd.read_csv(r\"C:/Users/saura/Downloads/brainStroke/test.csv\")\n",
        "submission_df = pd.read_csv(r\"C:/Users/saura/Downloads/brainStroke/sample_submission.csv\")"
      ]
    },
    {
      "cell_type": "code",
      "execution_count": 151,
      "metadata": {
        "colab": {
          "base_uri": "https://localhost:8080/",
          "height": 206
        },
        "id": "7lSPFbHR-tkK",
        "outputId": "f0d02800-c74b-40fd-9245-d9a44cb8c769"
      },
      "outputs": [
        {
          "data": {
            "text/html": [
              "<div>\n",
              "<style scoped>\n",
              "    .dataframe tbody tr th:only-of-type {\n",
              "        vertical-align: middle;\n",
              "    }\n",
              "\n",
              "    .dataframe tbody tr th {\n",
              "        vertical-align: top;\n",
              "    }\n",
              "\n",
              "    .dataframe thead th {\n",
              "        text-align: right;\n",
              "    }\n",
              "</style>\n",
              "<table border=\"1\" class=\"dataframe\">\n",
              "  <thead>\n",
              "    <tr style=\"text-align: right;\">\n",
              "      <th></th>\n",
              "      <th>id</th>\n",
              "      <th>gender</th>\n",
              "      <th>age</th>\n",
              "      <th>hypertension</th>\n",
              "      <th>heart_disease</th>\n",
              "      <th>ever_married</th>\n",
              "      <th>work_type</th>\n",
              "      <th>Residence_type</th>\n",
              "      <th>avg_glucose_level</th>\n",
              "      <th>bmi</th>\n",
              "      <th>smoking_status</th>\n",
              "      <th>stroke</th>\n",
              "    </tr>\n",
              "  </thead>\n",
              "  <tbody>\n",
              "    <tr>\n",
              "      <th>0</th>\n",
              "      <td>0</td>\n",
              "      <td>Male</td>\n",
              "      <td>28.0</td>\n",
              "      <td>0</td>\n",
              "      <td>0</td>\n",
              "      <td>Yes</td>\n",
              "      <td>Private</td>\n",
              "      <td>Urban</td>\n",
              "      <td>79.53</td>\n",
              "      <td>31.1</td>\n",
              "      <td>never smoked</td>\n",
              "      <td>0</td>\n",
              "    </tr>\n",
              "    <tr>\n",
              "      <th>1</th>\n",
              "      <td>1</td>\n",
              "      <td>Male</td>\n",
              "      <td>33.0</td>\n",
              "      <td>0</td>\n",
              "      <td>0</td>\n",
              "      <td>Yes</td>\n",
              "      <td>Private</td>\n",
              "      <td>Rural</td>\n",
              "      <td>78.44</td>\n",
              "      <td>23.9</td>\n",
              "      <td>formerly smoked</td>\n",
              "      <td>0</td>\n",
              "    </tr>\n",
              "    <tr>\n",
              "      <th>2</th>\n",
              "      <td>2</td>\n",
              "      <td>Female</td>\n",
              "      <td>42.0</td>\n",
              "      <td>0</td>\n",
              "      <td>0</td>\n",
              "      <td>Yes</td>\n",
              "      <td>Private</td>\n",
              "      <td>Rural</td>\n",
              "      <td>103.00</td>\n",
              "      <td>40.3</td>\n",
              "      <td>Unknown</td>\n",
              "      <td>0</td>\n",
              "    </tr>\n",
              "    <tr>\n",
              "      <th>3</th>\n",
              "      <td>3</td>\n",
              "      <td>Male</td>\n",
              "      <td>56.0</td>\n",
              "      <td>0</td>\n",
              "      <td>0</td>\n",
              "      <td>Yes</td>\n",
              "      <td>Private</td>\n",
              "      <td>Urban</td>\n",
              "      <td>64.87</td>\n",
              "      <td>28.8</td>\n",
              "      <td>never smoked</td>\n",
              "      <td>0</td>\n",
              "    </tr>\n",
              "    <tr>\n",
              "      <th>4</th>\n",
              "      <td>4</td>\n",
              "      <td>Female</td>\n",
              "      <td>24.0</td>\n",
              "      <td>0</td>\n",
              "      <td>0</td>\n",
              "      <td>No</td>\n",
              "      <td>Private</td>\n",
              "      <td>Rural</td>\n",
              "      <td>73.36</td>\n",
              "      <td>28.8</td>\n",
              "      <td>never smoked</td>\n",
              "      <td>0</td>\n",
              "    </tr>\n",
              "  </tbody>\n",
              "</table>\n",
              "</div>"
            ],
            "text/plain": [
              "   id  gender   age  hypertension  heart_disease ever_married work_type  \\\n",
              "0   0    Male  28.0             0              0          Yes   Private   \n",
              "1   1    Male  33.0             0              0          Yes   Private   \n",
              "2   2  Female  42.0             0              0          Yes   Private   \n",
              "3   3    Male  56.0             0              0          Yes   Private   \n",
              "4   4  Female  24.0             0              0           No   Private   \n",
              "\n",
              "  Residence_type  avg_glucose_level   bmi   smoking_status  stroke  \n",
              "0          Urban              79.53  31.1     never smoked       0  \n",
              "1          Rural              78.44  23.9  formerly smoked       0  \n",
              "2          Rural             103.00  40.3          Unknown       0  \n",
              "3          Urban              64.87  28.8     never smoked       0  \n",
              "4          Rural              73.36  28.8     never smoked       0  "
            ]
          },
          "execution_count": 151,
          "metadata": {},
          "output_type": "execute_result"
        }
      ],
      "source": [
        "train_df.head()"
      ]
    },
    {
      "cell_type": "code",
      "execution_count": 152,
      "metadata": {
        "colab": {
          "base_uri": "https://localhost:8080/"
        },
        "id": "JF3IFgq16h5n",
        "outputId": "a409e9eb-b0b5-4612-e63e-a15671fb59ec"
      },
      "outputs": [
        {
          "data": {
            "text/plain": [
              "array([0, 1], dtype=int64)"
            ]
          },
          "execution_count": 152,
          "metadata": {},
          "output_type": "execute_result"
        }
      ],
      "source": [
        "train_df['stroke'].unique()"
      ]
    },
    {
      "cell_type": "code",
      "execution_count": 153,
      "metadata": {
        "colab": {
          "base_uri": "https://localhost:8080/"
        },
        "id": "wTzA_9l16oMa",
        "outputId": "11934455-5d97-42df-8cee-94d8fae2261a"
      },
      "outputs": [
        {
          "name": "stdout",
          "output_type": "stream",
          "text": [
            "<class 'pandas.core.frame.DataFrame'>\n",
            "RangeIndex: 15304 entries, 0 to 15303\n",
            "Data columns (total 12 columns):\n",
            " #   Column             Non-Null Count  Dtype  \n",
            "---  ------             --------------  -----  \n",
            " 0   id                 15304 non-null  int64  \n",
            " 1   gender             15304 non-null  object \n",
            " 2   age                15304 non-null  float64\n",
            " 3   hypertension       15304 non-null  int64  \n",
            " 4   heart_disease      15304 non-null  int64  \n",
            " 5   ever_married       15304 non-null  object \n",
            " 6   work_type          15304 non-null  object \n",
            " 7   Residence_type     15304 non-null  object \n",
            " 8   avg_glucose_level  15304 non-null  float64\n",
            " 9   bmi                15304 non-null  float64\n",
            " 10  smoking_status     15304 non-null  object \n",
            " 11  stroke             15304 non-null  int64  \n",
            "dtypes: float64(3), int64(4), object(5)\n",
            "memory usage: 1.4+ MB\n"
          ]
        }
      ],
      "source": [
        "train_df.info()"
      ]
    },
    {
      "cell_type": "code",
      "execution_count": 154,
      "metadata": {
        "colab": {
          "base_uri": "https://localhost:8080/",
          "height": 300
        },
        "id": "FK2uP7mC_AEC",
        "outputId": "a89da06d-b0d0-4c2a-8e82-9ca95612fe06"
      },
      "outputs": [
        {
          "data": {
            "text/html": [
              "<div>\n",
              "<style scoped>\n",
              "    .dataframe tbody tr th:only-of-type {\n",
              "        vertical-align: middle;\n",
              "    }\n",
              "\n",
              "    .dataframe tbody tr th {\n",
              "        vertical-align: top;\n",
              "    }\n",
              "\n",
              "    .dataframe thead th {\n",
              "        text-align: right;\n",
              "    }\n",
              "</style>\n",
              "<table border=\"1\" class=\"dataframe\">\n",
              "  <thead>\n",
              "    <tr style=\"text-align: right;\">\n",
              "      <th></th>\n",
              "      <th>id</th>\n",
              "      <th>age</th>\n",
              "      <th>hypertension</th>\n",
              "      <th>heart_disease</th>\n",
              "      <th>avg_glucose_level</th>\n",
              "      <th>bmi</th>\n",
              "      <th>stroke</th>\n",
              "    </tr>\n",
              "  </thead>\n",
              "  <tbody>\n",
              "    <tr>\n",
              "      <th>count</th>\n",
              "      <td>15304.000000</td>\n",
              "      <td>15304.000000</td>\n",
              "      <td>15304.000000</td>\n",
              "      <td>15304.000000</td>\n",
              "      <td>15304.000000</td>\n",
              "      <td>15304.000000</td>\n",
              "      <td>15304.000000</td>\n",
              "    </tr>\n",
              "    <tr>\n",
              "      <th>mean</th>\n",
              "      <td>7651.500000</td>\n",
              "      <td>41.417708</td>\n",
              "      <td>0.049726</td>\n",
              "      <td>0.023327</td>\n",
              "      <td>89.039853</td>\n",
              "      <td>28.112721</td>\n",
              "      <td>0.041296</td>\n",
              "    </tr>\n",
              "    <tr>\n",
              "      <th>std</th>\n",
              "      <td>4418.028595</td>\n",
              "      <td>21.444673</td>\n",
              "      <td>0.217384</td>\n",
              "      <td>0.150946</td>\n",
              "      <td>25.476102</td>\n",
              "      <td>6.722315</td>\n",
              "      <td>0.198981</td>\n",
              "    </tr>\n",
              "    <tr>\n",
              "      <th>min</th>\n",
              "      <td>0.000000</td>\n",
              "      <td>0.080000</td>\n",
              "      <td>0.000000</td>\n",
              "      <td>0.000000</td>\n",
              "      <td>55.220000</td>\n",
              "      <td>10.300000</td>\n",
              "      <td>0.000000</td>\n",
              "    </tr>\n",
              "    <tr>\n",
              "      <th>25%</th>\n",
              "      <td>3825.750000</td>\n",
              "      <td>26.000000</td>\n",
              "      <td>0.000000</td>\n",
              "      <td>0.000000</td>\n",
              "      <td>74.900000</td>\n",
              "      <td>23.500000</td>\n",
              "      <td>0.000000</td>\n",
              "    </tr>\n",
              "    <tr>\n",
              "      <th>50%</th>\n",
              "      <td>7651.500000</td>\n",
              "      <td>43.000000</td>\n",
              "      <td>0.000000</td>\n",
              "      <td>0.000000</td>\n",
              "      <td>85.120000</td>\n",
              "      <td>27.600000</td>\n",
              "      <td>0.000000</td>\n",
              "    </tr>\n",
              "    <tr>\n",
              "      <th>75%</th>\n",
              "      <td>11477.250000</td>\n",
              "      <td>57.000000</td>\n",
              "      <td>0.000000</td>\n",
              "      <td>0.000000</td>\n",
              "      <td>96.980000</td>\n",
              "      <td>32.000000</td>\n",
              "      <td>0.000000</td>\n",
              "    </tr>\n",
              "    <tr>\n",
              "      <th>max</th>\n",
              "      <td>15303.000000</td>\n",
              "      <td>82.000000</td>\n",
              "      <td>1.000000</td>\n",
              "      <td>1.000000</td>\n",
              "      <td>267.600000</td>\n",
              "      <td>80.100000</td>\n",
              "      <td>1.000000</td>\n",
              "    </tr>\n",
              "  </tbody>\n",
              "</table>\n",
              "</div>"
            ],
            "text/plain": [
              "                 id           age  hypertension  heart_disease  \\\n",
              "count  15304.000000  15304.000000  15304.000000   15304.000000   \n",
              "mean    7651.500000     41.417708      0.049726       0.023327   \n",
              "std     4418.028595     21.444673      0.217384       0.150946   \n",
              "min        0.000000      0.080000      0.000000       0.000000   \n",
              "25%     3825.750000     26.000000      0.000000       0.000000   \n",
              "50%     7651.500000     43.000000      0.000000       0.000000   \n",
              "75%    11477.250000     57.000000      0.000000       0.000000   \n",
              "max    15303.000000     82.000000      1.000000       1.000000   \n",
              "\n",
              "       avg_glucose_level           bmi        stroke  \n",
              "count       15304.000000  15304.000000  15304.000000  \n",
              "mean           89.039853     28.112721      0.041296  \n",
              "std            25.476102      6.722315      0.198981  \n",
              "min            55.220000     10.300000      0.000000  \n",
              "25%            74.900000     23.500000      0.000000  \n",
              "50%            85.120000     27.600000      0.000000  \n",
              "75%            96.980000     32.000000      0.000000  \n",
              "max           267.600000     80.100000      1.000000  "
            ]
          },
          "execution_count": 154,
          "metadata": {},
          "output_type": "execute_result"
        }
      ],
      "source": [
        "train_df.describe()"
      ]
    },
    {
      "cell_type": "code",
      "execution_count": 155,
      "metadata": {
        "colab": {
          "base_uri": "https://localhost:8080/",
          "height": 460
        },
        "id": "Zb8bvGER_HV6",
        "outputId": "06e657c6-15a6-4ffd-8c48-1aadef344ccc"
      },
      "outputs": [
        {
          "data": {
            "text/plain": [
              "id                   15304\n",
              "gender                   3\n",
              "age                    106\n",
              "hypertension             2\n",
              "heart_disease            2\n",
              "ever_married             2\n",
              "work_type                5\n",
              "Residence_type           2\n",
              "avg_glucose_level     3740\n",
              "bmi                    407\n",
              "smoking_status           4\n",
              "stroke                   2\n",
              "dtype: int64"
            ]
          },
          "execution_count": 155,
          "metadata": {},
          "output_type": "execute_result"
        }
      ],
      "source": [
        "train_df.nunique()"
      ]
    },
    {
      "cell_type": "code",
      "execution_count": 156,
      "metadata": {
        "colab": {
          "base_uri": "https://localhost:8080/"
        },
        "id": "aWTiUjWn_YHm",
        "outputId": "f395ae73-18a8-4c7c-b6e4-12ca7aa297b8"
      },
      "outputs": [
        {
          "data": {
            "text/plain": [
              "0"
            ]
          },
          "execution_count": 156,
          "metadata": {},
          "output_type": "execute_result"
        }
      ],
      "source": [
        "train_df.duplicated().sum()"
      ]
    },
    {
      "cell_type": "code",
      "execution_count": 157,
      "metadata": {
        "colab": {
          "base_uri": "https://localhost:8080/"
        },
        "id": "ro04WFNO_kpG",
        "outputId": "4a852e34-f5fc-4640-8641-d924fe44a172"
      },
      "outputs": [
        {
          "data": {
            "text/plain": [
              "[0.08, 0.16, 0.24, 0.32, 0.4, 0.48, 0.56, 0.64, 0.68, 0.72, 0.8, 0.88]"
            ]
          },
          "execution_count": 157,
          "metadata": {},
          "output_type": "execute_result"
        }
      ],
      "source": [
        "sorted(train_df['age'].unique().tolist())[0:12]"
      ]
    },
    {
      "cell_type": "code",
      "execution_count": 158,
      "metadata": {
        "id": "FRN0IGMVAiVf"
      },
      "outputs": [],
      "source": [
        "train_df['age'] = np.ceil(train_df['age'])\n",
        "test_df['age'] = np.ceil(test_df['age'])"
      ]
    },
    {
      "cell_type": "code",
      "execution_count": 159,
      "metadata": {
        "colab": {
          "base_uri": "https://localhost:8080/",
          "height": 209
        },
        "id": "YkBuDVciBHuU",
        "outputId": "8eaa8cd2-245c-4021-beb9-586ac0335e6d"
      },
      "outputs": [
        {
          "data": {
            "text/plain": [
              "gender\n",
              "Female    9446\n",
              "Male      5857\n",
              "Other        1\n",
              "Name: count, dtype: int64"
            ]
          },
          "execution_count": 159,
          "metadata": {},
          "output_type": "execute_result"
        }
      ],
      "source": [
        "train_df['gender'].value_counts()"
      ]
    },
    {
      "cell_type": "code",
      "execution_count": 160,
      "metadata": {
        "id": "hMAsnWKiBHX3"
      },
      "outputs": [],
      "source": [
        "train_df.drop(train_df[train_df['gender']=='Other'].index, inplace=True)\n",
        "test_df.drop(test_df[test_df['gender']=='Other'].index, inplace=True)"
      ]
    },
    {
      "cell_type": "markdown",
      "metadata": {
        "id": "35rnHC9iFqor"
      },
      "source": [
        "# **Exploratory Data Transform(EDA)**"
      ]
    },
    {
      "cell_type": "code",
      "execution_count": 161,
      "metadata": {
        "id": "if-TUsYbBHDi"
      },
      "outputs": [],
      "source": [
        "import plotly.express as px\n",
        "import plotly.graph_objects as go\n",
        "import plotly.subplots as sp\n",
        "\n",
        "sns.set_style('darkgrid')"
      ]
    },
    {
      "cell_type": "code",
      "execution_count": 162,
      "metadata": {
        "id": "IObPwzi2GXj3"
      },
      "outputs": [],
      "source": [
        "plot_color = ['#008080', 'black']\n",
        "sns.set_palette(['#008080', 'black'])"
      ]
    },
    {
      "cell_type": "markdown",
      "metadata": {
        "id": "JPsAa867HPpv"
      },
      "source": [
        " ** Filter data for stroke and Non-Stroke  **"
      ]
    },
    {
      "cell_type": "code",
      "execution_count": 163,
      "metadata": {
        "id": "g_a1UBCvHMQj"
      },
      "outputs": [],
      "source": [
        "no_stroke = train_df[train_df['stroke']==0]\n",
        "stroke_data = train_df[train_df['stroke']==1]"
      ]
    },
    {
      "cell_type": "markdown",
      "metadata": {
        "id": "wdjmsSvwH3gn"
      },
      "source": [
        " **UnivariateAnalysis**"
      ]
    },
    {
      "cell_type": "code",
      "execution_count": 164,
      "metadata": {
        "colab": {
          "base_uri": "https://localhost:8080/",
          "height": 178
        },
        "id": "kJLZ7WxVHyIi",
        "outputId": "58adc5d8-66b2-4357-887c-15040a353627"
      },
      "outputs": [
        {
          "data": {
            "text/plain": [
              "stroke\n",
              "0    14671\n",
              "1      632\n",
              "Name: count, dtype: int64"
            ]
          },
          "execution_count": 164,
          "metadata": {},
          "output_type": "execute_result"
        }
      ],
      "source": [
        "stroke_count = train_df['stroke'].value_counts()\n",
        "stroke_count"
      ]
    },
    {
      "cell_type": "code",
      "execution_count": 165,
      "metadata": {
        "colab": {
          "base_uri": "https://localhost:8080/",
          "height": 542
        },
        "id": "ow-cE4uwI-xC",
        "outputId": "48fed0f6-726f-4a30-b01d-0eeb44f3ba00"
      },
      "outputs": [],
      "source": [
        "import plotly.io as pio\n",
        "fig =px.pie(stroke_count,\n",
        "            values=stroke_count.values, names=['Yes', 'No'],\n",
        "            color_discrete_sequence=plot_color,\n",
        "            title='Proportion of stroke cases')\n",
        "\n",
        "fig.update_layout(legend_title_text = 'Stroke Status', title_x=0.49, title_y=0.9)\n",
        "pio.renderers.default = \"browser\"\n",
        "fig.show()"
      ]
    },
    {
      "cell_type": "markdown",
      "metadata": {
        "id": "dTTzZZ6NaQIK"
      },
      "source": [
        "**BIVARIATE ANALYSIS**"
      ]
    },
    {
      "cell_type": "code",
      "execution_count": 166,
      "metadata": {
        "id": "1keQgIUMKSBa"
      },
      "outputs": [],
      "source": [
        "def custom_histogram(columns:str, titles:list)->go.Figure:\n",
        "  fig = sp.make_subplots(rows=1, cols=2, subplot_titles=['Yes Stroke', 'No Stroke'])\n",
        "  histogram_no_stroke = px.histogram(no_stroke, x=columns, color_discrete_sequence=['#008080'])\n",
        "  histogram_stroke = px.histogram(stroke_data, x=columns, color_discrete_sequence=['black'])\n",
        "  fig.add_trace(histogram_no_stroke['data'][0], row=1, col=1)\n",
        "  fig.add_trace(histogram_stroke['data'][0], row=1, col=2)\n",
        "  fig.update_layout(title=titles[0], title_x=0.5)\n",
        "  fig.update_xaxes(title_text=titles[1])\n",
        "  fig.update_yaxes(title_text='Count')\n",
        "  return fig"
      ]
    },
    {
      "cell_type": "code",
      "execution_count": 167,
      "metadata": {
        "colab": {
          "base_uri": "https://localhost:8080/",
          "height": 542
        },
        "id": "GE8EK9O8cwOq",
        "outputId": "7dfd02c9-4b6b-480f-d825-77681cb51df5"
      },
      "outputs": [],
      "source": [
        "fig = custom_histogram('avg_glucose_level',['Average Glucose Level Distribution By Stroke', 'Average Glucose Level'])\n",
        "fig.show()"
      ]
    },
    {
      "cell_type": "code",
      "execution_count": 168,
      "metadata": {
        "colab": {
          "base_uri": "https://localhost:8080/",
          "height": 542
        },
        "id": "R3TCLlIAdOb_",
        "outputId": "3999ddcb-2001-4dc0-9a93-87f361012f0a"
      },
      "outputs": [],
      "source": [
        "fig = custom_histogram('bmi',['BMI Distribution By Stroke', 'BMI'])\n",
        "fig.show()"
      ]
    },
    {
      "cell_type": "code",
      "execution_count": 169,
      "metadata": {
        "colab": {
          "base_uri": "https://localhost:8080/"
        },
        "id": "q3xnn8e0YEEV",
        "outputId": "9837bd99-c96e-44ce-dea8-369a7ae06c56"
      },
      "outputs": [
        {
          "data": {
            "text/plain": [
              "30.230696202531643"
            ]
          },
          "execution_count": 169,
          "metadata": {},
          "output_type": "execute_result"
        }
      ],
      "source": [
        "stroke_data['bmi'].mean()"
      ]
    },
    {
      "cell_type": "code",
      "execution_count": 170,
      "metadata": {
        "colab": {
          "base_uri": "https://localhost:8080/"
        },
        "id": "LCZ5qY3DJpRV",
        "outputId": "c4555272-76af-4d5c-9759-6ce271bfd202"
      },
      "outputs": [
        {
          "data": {
            "text/plain": [
              "28.02217163110899"
            ]
          },
          "execution_count": 170,
          "metadata": {},
          "output_type": "execute_result"
        }
      ],
      "source": [
        "no_stroke['bmi'].mean()"
      ]
    },
    {
      "cell_type": "code",
      "execution_count": 171,
      "metadata": {
        "colab": {
          "base_uri": "https://localhost:8080/",
          "height": 517
        },
        "id": "Mkw-UU0aJr0v",
        "outputId": "e8693e0b-2cfd-4398-81db-a21e2a96b32e"
      },
      "outputs": [],
      "source": [
        "fig = px.violin(train_df, y='bmi', x='stroke', box=True, width=700, height=500, color_discrete_sequence=['#008080'],\n",
        "                title='BMI & STROKE STATUS',\n",
        "                labels={'stroke':'Stroke Status', 'bmi': 'BMI Status'})\n",
        "fig.update_layout(title_x=0.5, title_y=0.9)\n",
        "fig.show()"
      ]
    },
    {
      "cell_type": "code",
      "execution_count": 172,
      "metadata": {
        "colab": {
          "base_uri": "https://localhost:8080/"
        },
        "id": "EpN1jrjNKp2r",
        "outputId": "7c4f6212-f145-478b-b7d5-a2d675623883"
      },
      "outputs": [
        {
          "data": {
            "text/plain": [
              "Index(['id', 'gender', 'age', 'hypertension', 'heart_disease', 'ever_married',\n",
              "       'work_type', 'Residence_type', 'avg_glucose_level', 'bmi',\n",
              "       'smoking_status', 'stroke'],\n",
              "      dtype='object')"
            ]
          },
          "execution_count": 172,
          "metadata": {},
          "output_type": "execute_result"
        }
      ],
      "source": [
        "train_df.columns"
      ]
    },
    {
      "cell_type": "code",
      "execution_count": 173,
      "metadata": {
        "colab": {
          "base_uri": "https://localhost:8080/",
          "height": 943
        },
        "id": "VcB93Qa8EDwY",
        "outputId": "0fbeec11-2844-4003-dd9f-371e8c2d965b"
      },
      "outputs": [
        {
          "data": {
            "image/png": "[encoded data removed]",
            "text/plain": [
              "<Figure size 1200x1000 with 6 Axes>"
            ]
          },
          "metadata": {},
          "output_type": "display_data"
        }
      ],
      "source": [
        "x_values =['smoking_status','hypertension', 'heart_disease','Residence_type','gender','ever_married']\n",
        "fig, axis = plt.subplots(3,2, figsize=(12,10))\n",
        "\n",
        "for ax, x_values in zip(axis.flatten(), x_values):\n",
        "  sns.countplot(x=x_values, hue='stroke', data=train_df, ax=ax)\n",
        "  ax.set_title(f'{x_values.capitalize()} and smoking status')\n",
        "\n",
        "plt.tight_layout()\n",
        "plt.show()"
      ]
    },
    {
      "cell_type": "markdown",
      "metadata": {
        "id": "36FFClBvGquD"
      },
      "source": [
        "**Data Preparation and Preprocessing**"
      ]
    },
    {
      "cell_type": "code",
      "execution_count": 174,
      "metadata": {
        "id": "pHqXii3xF1os"
      },
      "outputs": [],
      "source": [
        "from sklearn.preprocessing import LabelEncoder,OneHotEncoder, OrdinalEncoder\n",
        "from sklearn.pipeline import Pipeline\n",
        "from sklearn.compose import ColumnTransformer\n",
        "from sklearn import set_config\n",
        "\n",
        "set_config(display='diagram')"
      ]
    },
    {
      "cell_type": "code",
      "execution_count": 175,
      "metadata": {
        "colab": {
          "base_uri": "https://localhost:8080/"
        },
        "id": "EypvC9wGH7xj",
        "outputId": "79fe5040-1bdc-4e17-b689-231979833651"
      },
      "outputs": [
        {
          "data": {
            "text/plain": [
              "Index(['id', 'gender', 'age', 'hypertension', 'heart_disease', 'ever_married',\n",
              "       'work_type', 'Residence_type', 'avg_glucose_level', 'bmi',\n",
              "       'smoking_status', 'stroke'],\n",
              "      dtype='object')"
            ]
          },
          "execution_count": 175,
          "metadata": {},
          "output_type": "execute_result"
        }
      ],
      "source": [
        "train_df.columns"
      ]
    },
    {
      "cell_type": "code",
      "execution_count": 176,
      "metadata": {
        "colab": {
          "base_uri": "https://localhost:8080/"
        },
        "id": "v8kK85WEIkST",
        "outputId": "05fc52fc-b3dd-4a91-8d32-4da958320a02"
      },
      "outputs": [
        {
          "data": {
            "text/plain": [
              "['gender',\n",
              " 'age',\n",
              " 'hypertension',\n",
              " 'heart_disease',\n",
              " 'ever_married',\n",
              " 'work_type',\n",
              " 'Residence_type',\n",
              " 'avg_glucose_level',\n",
              " 'bmi',\n",
              " 'smoking_status']"
            ]
          },
          "execution_count": 176,
          "metadata": {},
          "output_type": "execute_result"
        }
      ],
      "source": [
        "input_cols = list(train_df.columns)[1:-1]\n",
        "input_cols"
      ]
    },
    {
      "cell_type": "code",
      "execution_count": 177,
      "metadata": {
        "id": "eN0ayLLWI0a4"
      },
      "outputs": [],
      "source": [
        "target_col = 'stroke'"
      ]
    },
    {
      "cell_type": "code",
      "execution_count": 178,
      "metadata": {
        "id": "RwM-QUQlI8B8"
      },
      "outputs": [],
      "source": [
        "train_inputs = train_df[input_cols].copy()\n",
        "train_targets = train_df[target_col].copy()\n",
        "\n",
        "test_inputs = test_df[input_cols].copy()\n"
      ]
    },
    {
      "cell_type": "code",
      "execution_count": 179,
      "metadata": {
        "colab": {
          "base_uri": "https://localhost:8080/"
        },
        "id": "iY609YbNKF8h",
        "outputId": "8195d7cd-8148-4f14-93d8-ec2783576118"
      },
      "outputs": [
        {
          "data": {
            "text/plain": [
              "['age', 'hypertension', 'heart_disease', 'avg_glucose_level', 'bmi']"
            ]
          },
          "execution_count": 179,
          "metadata": {},
          "output_type": "execute_result"
        }
      ],
      "source": [
        "numerical_cols = train_inputs.select_dtypes(exclude='object').columns.tolist()\n",
        "numerical_cols"
      ]
    },
    {
      "cell_type": "code",
      "execution_count": 180,
      "metadata": {
        "colab": {
          "base_uri": "https://localhost:8080/"
        },
        "id": "pajTyIdzKmXr",
        "outputId": "88a10b63-ae5f-4836-a273-d4b04cd6b633"
      },
      "outputs": [
        {
          "data": {
            "text/plain": [
              "['gender', 'ever_married', 'work_type', 'Residence_type', 'smoking_status']"
            ]
          },
          "execution_count": 180,
          "metadata": {},
          "output_type": "execute_result"
        }
      ],
      "source": [
        "categorical_cols = train_inputs.select_dtypes(include='object').columns.tolist()\n",
        "categorical_cols"
      ]
    },
    {
      "cell_type": "code",
      "execution_count": 181,
      "metadata": {
        "id": "YVTEZ1lRLCvT"
      },
      "outputs": [],
      "source": [
        "categorical_cols.remove('smoking_status')"
      ]
    },
    {
      "cell_type": "code",
      "execution_count": 182,
      "metadata": {
        "colab": {
          "base_uri": "https://localhost:8080/"
        },
        "id": "hQS8V33riIUm",
        "outputId": "50f68faa-d0a0-4e1a-e09c-7687cf4a298b"
      },
      "outputs": [
        {
          "data": {
            "text/plain": [
              "array(['never smoked', 'formerly smoked', 'Unknown', 'smokes'],\n",
              "      dtype=object)"
            ]
          },
          "execution_count": 182,
          "metadata": {},
          "output_type": "execute_result"
        }
      ],
      "source": [
        "train_df['smoking_status'].unique()"
      ]
    },
    {
      "cell_type": "code",
      "execution_count": 183,
      "metadata": {
        "id": "2XDYCJnXiRgX"
      },
      "outputs": [],
      "source": [
        "ordinal_enc = OrdinalEncoder(categories=[['never smoked', 'Unknown', 'formerly smoked', 'smokes']])"
      ]
    },
    {
      "cell_type": "code",
      "execution_count": 184,
      "metadata": {
        "id": "NyLPWBMqi_oo"
      },
      "outputs": [],
      "source": [
        "onehot_enc = OneHotEncoder(handle_unknown='ignore')"
      ]
    },
    {
      "cell_type": "code",
      "execution_count": 185,
      "metadata": {
        "id": "a8EQmltAjE3o"
      },
      "outputs": [],
      "source": [
        "preprocessor = ColumnTransformer([\n",
        "    ('ordinal_enc', ordinal_enc, ['smoking_status']),\n",
        "    ('onehot_enc', onehot_enc, categorical_cols)\n",
        "])\n"
      ]
    },
    {
      "cell_type": "code",
      "execution_count": 186,
      "metadata": {
        "colab": {
          "base_uri": "https://localhost:8080/",
          "height": 148
        },
        "id": "zBGR_WzVjtm0",
        "outputId": "40d947be-ca33-47e1-e87e-88274cb63917"
      },
      "outputs": [
        {
          "data": {
            "text/html": [
              "<style>#sk-container-id-4 {color: black;}#sk-container-id-4 pre{padding: 0;}#sk-container-id-4 div.sk-toggleable {background-color: white;}#sk-container-id-4 label.sk-toggleable__label {cursor: pointer;display: block;width: 100%;margin-bottom: 0;padding: 0.3em;box-sizing: border-box;text-align: center;}#sk-container-id-4 label.sk-toggleable__label-arrow:before {content: \"▸\";float: left;margin-right: 0.25em;color: #696969;}#sk-container-id-4 label.sk-toggleable__label-arrow:hover:before {color: black;}#sk-container-id-4 div.sk-estimator:hover label.sk-toggleable__label-arrow:before {color: black;}#sk-container-id-4 div.sk-toggleable__content {max-height: 0;max-width: 0;overflow: hidden;text-align: left;background-color: #f0f8ff;}#sk-container-id-4 div.sk-toggleable__content pre {margin: 0.2em;color: black;border-radius: 0.25em;background-color: #f0f8ff;}#sk-container-id-4 input.sk-toggleable__control:checked~div.sk-toggleable__content {max-height: 200px;max-width: 100%;overflow: auto;}#sk-container-id-4 input.sk-toggleable__control:checked~label.sk-toggleable__label-arrow:before {content: \"▾\";}#sk-container-id-4 div.sk-estimator input.sk-toggleable__control:checked~label.sk-toggleable__label {background-color: #d4ebff;}#sk-container-id-4 div.sk-label input.sk-toggleable__control:checked~label.sk-toggleable__label {background-color: #d4ebff;}#sk-container-id-4 input.sk-hidden--visually {border: 0;clip: rect(1px 1px 1px 1px);clip: rect(1px, 1px, 1px, 1px);height: 1px;margin: -1px;overflow: hidden;padding: 0;position: absolute;width: 1px;}#sk-container-id-4 div.sk-estimator {font-family: monospace;background-color: #f0f8ff;border: 1px dotted black;border-radius: 0.25em;box-sizing: border-box;margin-bottom: 0.5em;}#sk-container-id-4 div.sk-estimator:hover {background-color: #d4ebff;}#sk-container-id-4 div.sk-parallel-item::after {content: \"\";width: 100%;border-bottom: 1px solid gray;flex-grow: 1;}#sk-container-id-4 div.sk-label:hover label.sk-toggleable__label {background-color: #d4ebff;}#sk-container-id-4 div.sk-serial::before {content: \"\";position: absolute;border-left: 1px solid gray;box-sizing: border-box;top: 0;bottom: 0;left: 50%;z-index: 0;}#sk-container-id-4 div.sk-serial {display: flex;flex-direction: column;align-items: center;background-color: white;padding-right: 0.2em;padding-left: 0.2em;position: relative;}#sk-container-id-4 div.sk-item {position: relative;z-index: 1;}#sk-container-id-4 div.sk-parallel {display: flex;align-items: stretch;justify-content: center;background-color: white;position: relative;}#sk-container-id-4 div.sk-item::before, #sk-container-id-4 div.sk-parallel-item::before {content: \"\";position: absolute;border-left: 1px solid gray;box-sizing: border-box;top: 0;bottom: 0;left: 50%;z-index: -1;}#sk-container-id-4 div.sk-parallel-item {display: flex;flex-direction: column;z-index: 1;position: relative;background-color: white;}#sk-container-id-4 div.sk-parallel-item:first-child::after {align-self: flex-end;width: 50%;}#sk-container-id-4 div.sk-parallel-item:last-child::after {align-self: flex-start;width: 50%;}#sk-container-id-4 div.sk-parallel-item:only-child::after {width: 0;}#sk-container-id-4 div.sk-dashed-wrapped {border: 1px dashed gray;margin: 0 0.4em 0.5em 0.4em;box-sizing: border-box;padding-bottom: 0.4em;background-color: white;}#sk-container-id-4 div.sk-label label {font-family: monospace;font-weight: bold;display: inline-block;line-height: 1.2em;}#sk-container-id-4 div.sk-label-container {text-align: center;}#sk-container-id-4 div.sk-container {/* jupyter's `normalize.less` sets `[hidden] { display: none; }` but bootstrap.min.css set `[hidden] { display: none !important; }` so we also need the `!important` here to be able to override the default hidden behavior on the sphinx rendered scikit-learn.org. See: https://github.com/scikit-learn/scikit-learn/issues/21755 */display: inline-block !important;position: relative;}#sk-container-id-4 div.sk-text-repr-fallback {display: none;}</style><div id=\"sk-container-id-4\" class=\"sk-top-container\"><div class=\"sk-text-repr-fallback\"><pre>ColumnTransformer(transformers=[(&#x27;ordinal_enc&#x27;,\n",
              "                                 OrdinalEncoder(categories=[[&#x27;never smoked&#x27;,\n",
              "                                                             &#x27;Unknown&#x27;,\n",
              "                                                             &#x27;formerly smoked&#x27;,\n",
              "                                                             &#x27;smokes&#x27;]]),\n",
              "                                 [&#x27;smoking_status&#x27;]),\n",
              "                                (&#x27;onehot_enc&#x27;,\n",
              "                                 OneHotEncoder(handle_unknown=&#x27;ignore&#x27;),\n",
              "                                 [&#x27;gender&#x27;, &#x27;ever_married&#x27;, &#x27;work_type&#x27;,\n",
              "                                  &#x27;Residence_type&#x27;])])</pre><b>In a Jupyter environment, please rerun this cell to show the HTML representation or trust the notebook. <br />On GitHub, the HTML representation is unable to render, please try loading this page with nbviewer.org.</b></div><div class=\"sk-container\" hidden><div class=\"sk-item sk-dashed-wrapped\"><div class=\"sk-label-container\"><div class=\"sk-label sk-toggleable\"><input class=\"sk-toggleable__control sk-hidden--visually\" id=\"sk-estimator-id-15\" type=\"checkbox\" ><label for=\"sk-estimator-id-15\" class=\"sk-toggleable__label sk-toggleable__label-arrow\">ColumnTransformer</label><div class=\"sk-toggleable__content\"><pre>ColumnTransformer(transformers=[(&#x27;ordinal_enc&#x27;,\n",
              "                                 OrdinalEncoder(categories=[[&#x27;never smoked&#x27;,\n",
              "                                                             &#x27;Unknown&#x27;,\n",
              "                                                             &#x27;formerly smoked&#x27;,\n",
              "                                                             &#x27;smokes&#x27;]]),\n",
              "                                 [&#x27;smoking_status&#x27;]),\n",
              "                                (&#x27;onehot_enc&#x27;,\n",
              "                                 OneHotEncoder(handle_unknown=&#x27;ignore&#x27;),\n",
              "                                 [&#x27;gender&#x27;, &#x27;ever_married&#x27;, &#x27;work_type&#x27;,\n",
              "                                  &#x27;Residence_type&#x27;])])</pre></div></div></div><div class=\"sk-parallel\"><div class=\"sk-parallel-item\"><div class=\"sk-item\"><div class=\"sk-label-container\"><div class=\"sk-label sk-toggleable\"><input class=\"sk-toggleable__control sk-hidden--visually\" id=\"sk-estimator-id-16\" type=\"checkbox\" ><label for=\"sk-estimator-id-16\" class=\"sk-toggleable__label sk-toggleable__label-arrow\">ordinal_enc</label><div class=\"sk-toggleable__content\"><pre>[&#x27;smoking_status&#x27;]</pre></div></div></div><div class=\"sk-serial\"><div class=\"sk-item\"><div class=\"sk-estimator sk-toggleable\"><input class=\"sk-toggleable__control sk-hidden--visually\" id=\"sk-estimator-id-17\" type=\"checkbox\" ><label for=\"sk-estimator-id-17\" class=\"sk-toggleable__label sk-toggleable__label-arrow\">OrdinalEncoder</label><div class=\"sk-toggleable__content\"><pre>OrdinalEncoder(categories=[[&#x27;never smoked&#x27;, &#x27;Unknown&#x27;, &#x27;formerly smoked&#x27;,\n",
              "                            &#x27;smokes&#x27;]])</pre></div></div></div></div></div></div><div class=\"sk-parallel-item\"><div class=\"sk-item\"><div class=\"sk-label-container\"><div class=\"sk-label sk-toggleable\"><input class=\"sk-toggleable__control sk-hidden--visually\" id=\"sk-estimator-id-18\" type=\"checkbox\" ><label for=\"sk-estimator-id-18\" class=\"sk-toggleable__label sk-toggleable__label-arrow\">onehot_enc</label><div class=\"sk-toggleable__content\"><pre>[&#x27;gender&#x27;, &#x27;ever_married&#x27;, &#x27;work_type&#x27;, &#x27;Residence_type&#x27;]</pre></div></div></div><div class=\"sk-serial\"><div class=\"sk-item\"><div class=\"sk-estimator sk-toggleable\"><input class=\"sk-toggleable__control sk-hidden--visually\" id=\"sk-estimator-id-19\" type=\"checkbox\" ><label for=\"sk-estimator-id-19\" class=\"sk-toggleable__label sk-toggleable__label-arrow\">OneHotEncoder</label><div class=\"sk-toggleable__content\"><pre>OneHotEncoder(handle_unknown=&#x27;ignore&#x27;)</pre></div></div></div></div></div></div></div></div></div></div>"
            ],
            "text/plain": [
              "ColumnTransformer(transformers=[('ordinal_enc',\n",
              "                                 OrdinalEncoder(categories=[['never smoked',\n",
              "                                                             'Unknown',\n",
              "                                                             'formerly smoked',\n",
              "                                                             'smokes']]),\n",
              "                                 ['smoking_status']),\n",
              "                                ('onehot_enc',\n",
              "                                 OneHotEncoder(handle_unknown='ignore'),\n",
              "                                 ['gender', 'ever_married', 'work_type',\n",
              "                                  'Residence_type'])])"
            ]
          },
          "execution_count": 186,
          "metadata": {},
          "output_type": "execute_result"
        }
      ],
      "source": [
        "preprocessor.fit(train_inputs)"
      ]
    },
    {
      "cell_type": "code",
      "execution_count": 187,
      "metadata": {
        "id": "0VyMEH66j1ug"
      },
      "outputs": [],
      "source": [
        "encoded_cols = list(preprocessor.get_feature_names_out())"
      ]
    },
    {
      "cell_type": "code",
      "execution_count": 188,
      "metadata": {
        "colab": {
          "base_uri": "https://localhost:8080/"
        },
        "id": "tjIoXreAkQzr",
        "outputId": "0f96f5af-6e01-408d-f916-28137987762c"
      },
      "outputs": [
        {
          "data": {
            "text/plain": [
              "['ordinal_enc__smoking_status',\n",
              " 'onehot_enc__gender_Female',\n",
              " 'onehot_enc__gender_Male',\n",
              " 'onehot_enc__ever_married_No',\n",
              " 'onehot_enc__ever_married_Yes',\n",
              " 'onehot_enc__work_type_Govt_job',\n",
              " 'onehot_enc__work_type_Never_worked',\n",
              " 'onehot_enc__work_type_Private',\n",
              " 'onehot_enc__work_type_Self-employed',\n",
              " 'onehot_enc__work_type_children',\n",
              " 'onehot_enc__Residence_type_Rural',\n",
              " 'onehot_enc__Residence_type_Urban']"
            ]
          },
          "execution_count": 188,
          "metadata": {},
          "output_type": "execute_result"
        }
      ],
      "source": [
        "encoded_cols"
      ]
    },
    {
      "cell_type": "code",
      "execution_count": 189,
      "metadata": {
        "id": "Kv7v6EPNkYhh"
      },
      "outputs": [],
      "source": [
        "train_inputs[encoded_cols] = preprocessor.transform(train_inputs)\n",
        "test_inputs[encoded_cols] = preprocessor.transform(test_inputs)"
      ]
    },
    {
      "cell_type": "code",
      "execution_count": 190,
      "metadata": {
        "id": "xoN2nb-Zksh7"
      },
      "outputs": [],
      "source": [
        "X_train = train_inputs[numerical_cols+encoded_cols]\n",
        "y_train = train_df[target_col]\n",
        "\n",
        "X_test = test_inputs[numerical_cols+encoded_cols]"
      ]
    },
    {
      "cell_type": "code",
      "execution_count": 191,
      "metadata": {
        "colab": {
          "base_uri": "https://localhost:8080/",
          "height": 243
        },
        "id": "IJe34kOYlM4O",
        "outputId": "062f13fa-2987-41ff-e39b-248e9675acb6"
      },
      "outputs": [
        {
          "data": {
            "text/html": [
              "<div>\n",
              "<style scoped>\n",
              "    .dataframe tbody tr th:only-of-type {\n",
              "        vertical-align: middle;\n",
              "    }\n",
              "\n",
              "    .dataframe tbody tr th {\n",
              "        vertical-align: top;\n",
              "    }\n",
              "\n",
              "    .dataframe thead th {\n",
              "        text-align: right;\n",
              "    }\n",
              "</style>\n",
              "<table border=\"1\" class=\"dataframe\">\n",
              "  <thead>\n",
              "    <tr style=\"text-align: right;\">\n",
              "      <th></th>\n",
              "      <th>age</th>\n",
              "      <th>hypertension</th>\n",
              "      <th>heart_disease</th>\n",
              "      <th>avg_glucose_level</th>\n",
              "      <th>bmi</th>\n",
              "      <th>ordinal_enc__smoking_status</th>\n",
              "      <th>onehot_enc__gender_Female</th>\n",
              "      <th>onehot_enc__gender_Male</th>\n",
              "      <th>onehot_enc__ever_married_No</th>\n",
              "      <th>onehot_enc__ever_married_Yes</th>\n",
              "      <th>onehot_enc__work_type_Govt_job</th>\n",
              "      <th>onehot_enc__work_type_Never_worked</th>\n",
              "      <th>onehot_enc__work_type_Private</th>\n",
              "      <th>onehot_enc__work_type_Self-employed</th>\n",
              "      <th>onehot_enc__work_type_children</th>\n",
              "      <th>onehot_enc__Residence_type_Rural</th>\n",
              "      <th>onehot_enc__Residence_type_Urban</th>\n",
              "    </tr>\n",
              "  </thead>\n",
              "  <tbody>\n",
              "    <tr>\n",
              "      <th>0</th>\n",
              "      <td>28.0</td>\n",
              "      <td>0</td>\n",
              "      <td>0</td>\n",
              "      <td>79.53</td>\n",
              "      <td>31.1</td>\n",
              "      <td>0.0</td>\n",
              "      <td>0.0</td>\n",
              "      <td>1.0</td>\n",
              "      <td>0.0</td>\n",
              "      <td>1.0</td>\n",
              "      <td>0.0</td>\n",
              "      <td>0.0</td>\n",
              "      <td>1.0</td>\n",
              "      <td>0.0</td>\n",
              "      <td>0.0</td>\n",
              "      <td>0.0</td>\n",
              "      <td>1.0</td>\n",
              "    </tr>\n",
              "    <tr>\n",
              "      <th>1</th>\n",
              "      <td>33.0</td>\n",
              "      <td>0</td>\n",
              "      <td>0</td>\n",
              "      <td>78.44</td>\n",
              "      <td>23.9</td>\n",
              "      <td>2.0</td>\n",
              "      <td>0.0</td>\n",
              "      <td>1.0</td>\n",
              "      <td>0.0</td>\n",
              "      <td>1.0</td>\n",
              "      <td>0.0</td>\n",
              "      <td>0.0</td>\n",
              "      <td>1.0</td>\n",
              "      <td>0.0</td>\n",
              "      <td>0.0</td>\n",
              "      <td>1.0</td>\n",
              "      <td>0.0</td>\n",
              "    </tr>\n",
              "    <tr>\n",
              "      <th>2</th>\n",
              "      <td>42.0</td>\n",
              "      <td>0</td>\n",
              "      <td>0</td>\n",
              "      <td>103.00</td>\n",
              "      <td>40.3</td>\n",
              "      <td>1.0</td>\n",
              "      <td>1.0</td>\n",
              "      <td>0.0</td>\n",
              "      <td>0.0</td>\n",
              "      <td>1.0</td>\n",
              "      <td>0.0</td>\n",
              "      <td>0.0</td>\n",
              "      <td>1.0</td>\n",
              "      <td>0.0</td>\n",
              "      <td>0.0</td>\n",
              "      <td>1.0</td>\n",
              "      <td>0.0</td>\n",
              "    </tr>\n",
              "    <tr>\n",
              "      <th>3</th>\n",
              "      <td>56.0</td>\n",
              "      <td>0</td>\n",
              "      <td>0</td>\n",
              "      <td>64.87</td>\n",
              "      <td>28.8</td>\n",
              "      <td>0.0</td>\n",
              "      <td>0.0</td>\n",
              "      <td>1.0</td>\n",
              "      <td>0.0</td>\n",
              "      <td>1.0</td>\n",
              "      <td>0.0</td>\n",
              "      <td>0.0</td>\n",
              "      <td>1.0</td>\n",
              "      <td>0.0</td>\n",
              "      <td>0.0</td>\n",
              "      <td>0.0</td>\n",
              "      <td>1.0</td>\n",
              "    </tr>\n",
              "    <tr>\n",
              "      <th>4</th>\n",
              "      <td>24.0</td>\n",
              "      <td>0</td>\n",
              "      <td>0</td>\n",
              "      <td>73.36</td>\n",
              "      <td>28.8</td>\n",
              "      <td>0.0</td>\n",
              "      <td>1.0</td>\n",
              "      <td>0.0</td>\n",
              "      <td>1.0</td>\n",
              "      <td>0.0</td>\n",
              "      <td>0.0</td>\n",
              "      <td>0.0</td>\n",
              "      <td>1.0</td>\n",
              "      <td>0.0</td>\n",
              "      <td>0.0</td>\n",
              "      <td>1.0</td>\n",
              "      <td>0.0</td>\n",
              "    </tr>\n",
              "  </tbody>\n",
              "</table>\n",
              "</div>"
            ],
            "text/plain": [
              "    age  hypertension  heart_disease  avg_glucose_level   bmi  \\\n",
              "0  28.0             0              0              79.53  31.1   \n",
              "1  33.0             0              0              78.44  23.9   \n",
              "2  42.0             0              0             103.00  40.3   \n",
              "3  56.0             0              0              64.87  28.8   \n",
              "4  24.0             0              0              73.36  28.8   \n",
              "\n",
              "   ordinal_enc__smoking_status  onehot_enc__gender_Female  \\\n",
              "0                          0.0                        0.0   \n",
              "1                          2.0                        0.0   \n",
              "2                          1.0                        1.0   \n",
              "3                          0.0                        0.0   \n",
              "4                          0.0                        1.0   \n",
              "\n",
              "   onehot_enc__gender_Male  onehot_enc__ever_married_No  \\\n",
              "0                      1.0                          0.0   \n",
              "1                      1.0                          0.0   \n",
              "2                      0.0                          0.0   \n",
              "3                      1.0                          0.0   \n",
              "4                      0.0                          1.0   \n",
              "\n",
              "   onehot_enc__ever_married_Yes  onehot_enc__work_type_Govt_job  \\\n",
              "0                           1.0                             0.0   \n",
              "1                           1.0                             0.0   \n",
              "2                           1.0                             0.0   \n",
              "3                           1.0                             0.0   \n",
              "4                           0.0                             0.0   \n",
              "\n",
              "   onehot_enc__work_type_Never_worked  onehot_enc__work_type_Private  \\\n",
              "0                                 0.0                            1.0   \n",
              "1                                 0.0                            1.0   \n",
              "2                                 0.0                            1.0   \n",
              "3                                 0.0                            1.0   \n",
              "4                                 0.0                            1.0   \n",
              "\n",
              "   onehot_enc__work_type_Self-employed  onehot_enc__work_type_children  \\\n",
              "0                                  0.0                             0.0   \n",
              "1                                  0.0                             0.0   \n",
              "2                                  0.0                             0.0   \n",
              "3                                  0.0                             0.0   \n",
              "4                                  0.0                             0.0   \n",
              "\n",
              "   onehot_enc__Residence_type_Rural  onehot_enc__Residence_type_Urban  \n",
              "0                               0.0                               1.0  \n",
              "1                               1.0                               0.0  \n",
              "2                               1.0                               0.0  \n",
              "3                               0.0                               1.0  \n",
              "4                               1.0                               0.0  "
            ]
          },
          "execution_count": 191,
          "metadata": {},
          "output_type": "execute_result"
        }
      ],
      "source": [
        "X_train.head()"
      ]
    },
    {
      "cell_type": "code",
      "execution_count": 192,
      "metadata": {
        "colab": {
          "base_uri": "https://localhost:8080/"
        },
        "id": "mitviu_dlUzs",
        "outputId": "1b36857f-3a54-4e79-fbab-c3dab40d3ee1"
      },
      "outputs": [
        {
          "data": {
            "text/plain": [
              "True"
            ]
          },
          "execution_count": 192,
          "metadata": {},
          "output_type": "execute_result"
        }
      ],
      "source": [
        "X_train.shape[1] == X_test.shape[1]"
      ]
    },
    {
      "cell_type": "code",
      "execution_count": 193,
      "metadata": {
        "id": "oFDPMfEqleLb"
      },
      "outputs": [],
      "source": [
        "from sklearn.model_selection import train_test_split"
      ]
    },
    {
      "cell_type": "code",
      "execution_count": 194,
      "metadata": {
        "id": "IzNS1DrVmJSc"
      },
      "outputs": [],
      "source": [
        "X_train, X_val, y_train, y_val = train_test_split(X_train, y_train, test_size=0.2, random_state=42)"
      ]
    },
    {
      "cell_type": "code",
      "execution_count": 195,
      "metadata": {
        "colab": {
          "base_uri": "https://localhost:8080/"
        },
        "id": "z5fAUaNRvM4M",
        "outputId": "ad8441a4-08c4-4b24-a357-995ce06f8c1c"
      },
      "outputs": [
        {
          "data": {
            "text/plain": [
              "(12242, 17)"
            ]
          },
          "execution_count": 195,
          "metadata": {},
          "output_type": "execute_result"
        }
      ],
      "source": [
        "X_train.shape"
      ]
    },
    {
      "cell_type": "code",
      "execution_count": 196,
      "metadata": {
        "id": "8NcBxzT2mWcy"
      },
      "outputs": [],
      "source": [
        "from sklearn.ensemble import RandomForestClassifier\n",
        "from sklearn.tree import DecisionTreeClassifier\n",
        "from sklearn.linear_model import LogisticRegression\n",
        "from xgboost import XGBClassifier\n",
        "from lightgbm import LGBMClassifier\n",
        "from imblearn.over_sampling import SMOTE\n",
        "\n",
        "from sklearn.metrics import accuracy_score, recall_score,precision_score, f1_score\n",
        "from sklearn.metrics import confusion_matrix as sk_confusion_matrix"
      ]
    },
    {
      "cell_type": "code",
      "execution_count": 197,
      "metadata": {
        "id": "oZVA11z4m7yL"
      },
      "outputs": [],
      "source": [
        "from re import VERBOSE\n",
        "models = [\n",
        "    ('Logistic Regression', LogisticRegression()),\n",
        "    ('Decision Tree', DecisionTreeClassifier()),\n",
        "    ('Random Forest', RandomForestClassifier()),\n",
        "    ('XGBoost', XGBClassifier()),\n",
        "    ('LightGBM', LGBMClassifier(verbose=1))\n",
        "]"
      ]
    },
    {
      "cell_type": "code",
      "execution_count": 198,
      "metadata": {
        "id": "4ylQUDaLnWyB"
      },
      "outputs": [],
      "source": [
        "def evaluate_model(model, X_train, y_train, X_val, y_val):\n",
        "    model.fit(X_train, y_train)\n",
        "    y_pred = model.predict(X_val)\n",
        "    conf_matrix = sk_confusion_matrix(y_val, y_pred)\n",
        "    accuracy = accuracy_score(y_val, y_pred)\n",
        "    recall = recall_score(y_val, y_pred)\n",
        "    precision = precision_score(y_val, y_pred)\n",
        "    f1 = f1_score(y_val, y_pred)\n",
        "    return conf_matrix, accuracy, recall, precision, f1"
      ]
    },
    {
      "cell_type": "code",
      "execution_count": 199,
      "metadata": {
        "id": "UeFW4uCYoF1w"
      },
      "outputs": [],
      "source": [
        "confusion_mats = {}\n",
        "def metric_df(model, model_name):\n",
        "    conf_matrix, accuracy, recall, precision, f1 = evaluate_model(\n",
        "        model, X_train, y_train, X_val, y_val\n",
        "    )\n",
        "\n",
        "    confusion_mats[model_name] = conf_matrix\n",
        "\n",
        "    metrics_dict = {\n",
        "        'Model': [model_name],\n",
        "        'Accuracy': [accuracy],\n",
        "        'Recall': [recall],\n",
        "        'Precision': [precision],\n",
        "        'F1': [f1]\n",
        "    }\n",
        "\n",
        "    return pd.DataFrame(metrics_dict)"
      ]
    },
    {
      "cell_type": "code",
      "execution_count": 200,
      "metadata": {
        "colab": {
          "base_uri": "https://localhost:8080/"
        },
        "id": "p3OBr2FFpJUB",
        "outputId": "5ba91161-1a37-46a6-e5a8-da377da58291"
      },
      "outputs": [
        {
          "name": "stderr",
          "output_type": "stream",
          "text": [
            "c:\\Users\\saura\\Downloads\\brainStroke\\.venv\\lib\\site-packages\\sklearn\\linear_model\\_logistic.py:460: ConvergenceWarning:\n",
            "\n",
            "lbfgs failed to converge (status=1):\n",
            "STOP: TOTAL NO. of ITERATIONS REACHED LIMIT.\n",
            "\n",
            "Increase the number of iterations (max_iter) or scale the data as shown in:\n",
            "    https://scikit-learn.org/stable/modules/preprocessing.html\n",
            "Please also refer to the documentation for alternative solver options:\n",
            "    https://scikit-learn.org/stable/modules/linear_model.html#logistic-regression\n",
            "\n"
          ]
        },
        {
          "name": "stdout",
          "output_type": "stream",
          "text": [
            "[LightGBM] [Info] Number of positive: 498, number of negative: 11744\n",
            "[LightGBM] [Info] Auto-choosing row-wise multi-threading, the overhead of testing was 0.001477 seconds.\n",
            "You can set `force_row_wise=true` to remove the overhead.\n",
            "And if memory is not enough, you can set `force_col_wise=true`.\n",
            "[LightGBM] [Info] Total Bins 623\n",
            "[LightGBM] [Info] Number of data points in the train set: 12242, number of used features: 17\n",
            "[LightGBM] [Info] [binary:BoostFromScore]: pavg=0.040680 -> initscore=-3.160498\n",
            "[LightGBM] [Info] Start training from score -3.160498\n"
          ]
        }
      ],
      "source": [
        "predictions = []\n",
        "for model_name, model in models:\n",
        "    model_metrics = metric_df(model, model_name)\n",
        "    predictions.append(model_metrics)\n",
        "\n",
        "final_df = pd.concat(predictions, ignore_index=True)"
      ]
    },
    {
      "cell_type": "code",
      "execution_count": 201,
      "metadata": {
        "colab": {
          "base_uri": "https://localhost:8080/"
        },
        "id": "nLHeqZA4pk19",
        "outputId": "940f5b0b-2b6f-408f-c1c6-777c2ed5b5a3"
      },
      "outputs": [
        {
          "data": {
            "text/plain": [
              "[                 Model  Accuracy    Recall  Precision        F1\n",
              " 0  Logistic Regression  0.954917  0.022388        0.3  0.041667,\n",
              "            Model  Accuracy    Recall  Precision        F1\n",
              " 0  Decision Tree  0.929435  0.238806   0.219178  0.228571,\n",
              "            Model  Accuracy    Recall  Precision        F1\n",
              " 0  Random Forest  0.953937  0.067164       0.36  0.113208,\n",
              "      Model  Accuracy    Recall  Precision        F1\n",
              " 0  XGBoost  0.952303  0.097015   0.342105  0.151163,\n",
              "       Model  Accuracy    Recall  Precision        F1\n",
              " 0  LightGBM  0.954263  0.052239       0.35  0.090909]"
            ]
          },
          "execution_count": 201,
          "metadata": {},
          "output_type": "execute_result"
        }
      ],
      "source": [
        "predictions"
      ]
    },
    {
      "cell_type": "code",
      "execution_count": 202,
      "metadata": {
        "id": "Y6QkaHOdqG49"
      },
      "outputs": [],
      "source": [
        "over_sampling = SMOTE(random_state=42)\n",
        "X_train_resampled, y_train_resampled = over_sampling.fit_resample(X_train, y_train)"
      ]
    },
    {
      "cell_type": "code",
      "execution_count": 203,
      "metadata": {
        "colab": {
          "base_uri": "https://localhost:8080/"
        },
        "id": "imEPFaMuvAac",
        "outputId": "9fad2caa-1a66-4e61-acd9-1600a449e63a"
      },
      "outputs": [
        {
          "data": {
            "text/plain": [
              "(23488, 17)"
            ]
          },
          "execution_count": 203,
          "metadata": {},
          "output_type": "execute_result"
        }
      ],
      "source": [
        "X_train_resampled.shape"
      ]
    },
    {
      "cell_type": "code",
      "execution_count": 204,
      "metadata": {
        "colab": {
          "base_uri": "https://localhost:8080/"
        },
        "id": "B5F2NBq7vEgp",
        "outputId": "7e135308-b326-4cc6-c68e-1888bc44d0a7"
      },
      "outputs": [
        {
          "name": "stderr",
          "output_type": "stream",
          "text": [
            "c:\\Users\\saura\\Downloads\\brainStroke\\.venv\\lib\\site-packages\\sklearn\\linear_model\\_logistic.py:460: ConvergenceWarning:\n",
            "\n",
            "lbfgs failed to converge (status=1):\n",
            "STOP: TOTAL NO. of ITERATIONS REACHED LIMIT.\n",
            "\n",
            "Increase the number of iterations (max_iter) or scale the data as shown in:\n",
            "    https://scikit-learn.org/stable/modules/preprocessing.html\n",
            "Please also refer to the documentation for alternative solver options:\n",
            "    https://scikit-learn.org/stable/modules/linear_model.html#logistic-regression\n",
            "\n",
            "c:\\Users\\saura\\Downloads\\brainStroke\\.venv\\lib\\site-packages\\sklearn\\linear_model\\_logistic.py:460: ConvergenceWarning:\n",
            "\n",
            "lbfgs failed to converge (status=1):\n",
            "STOP: TOTAL NO. of ITERATIONS REACHED LIMIT.\n",
            "\n",
            "Increase the number of iterations (max_iter) or scale the data as shown in:\n",
            "    https://scikit-learn.org/stable/modules/preprocessing.html\n",
            "Please also refer to the documentation for alternative solver options:\n",
            "    https://scikit-learn.org/stable/modules/linear_model.html#logistic-regression\n",
            "\n"
          ]
        }
      ],
      "source": [
        "lr_with_smote = LogisticRegression()\n",
        "lr_with_smote.fit(X_train_resampled, y_train_resampled)\n",
        "lr_with_smote_pred = metric_df(lr_with_smote, 'Logistic Regression with SMOTE')\n",
        "predictions.append(lr_with_smote_pred)\n"
      ]
    },
    {
      "cell_type": "code",
      "execution_count": 205,
      "metadata": {
        "colab": {
          "base_uri": "https://localhost:8080/"
        },
        "id": "F1l2T4NRxV4E",
        "outputId": "44b528f4-9921-40d7-acd5-f792c3f5bcb3"
      },
      "outputs": [
        {
          "name": "stdout",
          "output_type": "stream",
          "text": [
            "Confusion Matrix for Logistic Regression:\n",
            "[[2920    7]\n",
            " [ 131    3]]\n",
            "\n",
            "Confusion Matrix for Decision Tree:\n",
            "[[2813  114]\n",
            " [ 102   32]]\n",
            "\n",
            "Confusion Matrix for Random Forest:\n",
            "[[2911   16]\n",
            " [ 125    9]]\n",
            "\n",
            "Confusion Matrix for XGBoost:\n",
            "[[2902   25]\n",
            " [ 121   13]]\n",
            "\n",
            "Confusion Matrix for LightGBM:\n",
            "[[2914   13]\n",
            " [ 127    7]]\n",
            "\n",
            "Confusion Matrix for Logistic Regression with SMOTE:\n",
            "[[2920    7]\n",
            " [ 131    3]]\n",
            "\n"
          ]
        }
      ],
      "source": [
        "for model_name, confusion_matrix in confusion_mats.items():\n",
        "    print(f\"Confusion Matrix for {model_name}:\")\n",
        "    print(confusion_matrix)\n",
        "    print()"
      ]
    },
    {
      "cell_type": "markdown",
      "metadata": {
        "id": "udfDvTI11Kjn"
      },
      "source": [
        "**VOTING CLASSIFIER :- HARD AND SOFT**"
      ]
    },
    {
      "cell_type": "code",
      "execution_count": 206,
      "metadata": {
        "id": "Pw-Z2Dbl0yfy"
      },
      "outputs": [],
      "source": [
        "from sklearn.ensemble import VotingClassifier\n"
      ]
    },
    {
      "cell_type": "code",
      "execution_count": 207,
      "metadata": {
        "id": "I4Ki-T4k7MIE"
      },
      "outputs": [],
      "source": [
        "estimator=[]\n",
        "estimator.append(('Logistic Regression', LogisticRegression()))\n",
        "estimator.append(('Decision Tree', DecisionTreeClassifier()))\n",
        "estimator.append(('Random Forest', RandomForestClassifier()))\n",
        "estimator.append(('XGBoost', XGBClassifier()))\n",
        "estimator.append(('LightGBM', LGBMClassifier(verbose=1)))"
      ]
    },
    {
      "cell_type": "code",
      "execution_count": 208,
      "metadata": {
        "id": "9NYZfG6HrdGL"
      },
      "outputs": [],
      "source": [
        "estimators = [\n",
        "    ('dt', DecisionTreeClassifier(random_state=42)),\n",
        "    ('rf', RandomForestClassifier(random_state=42)),\n",
        "    ('xgb', XGBClassifier(random_state=42)),\n",
        "    ('lgbm', LGBMClassifier(random_state=42))\n",
        "]"
      ]
    },
    {
      "cell_type": "code",
      "execution_count": 209,
      "metadata": {
        "colab": {
          "base_uri": "https://localhost:8080/"
        },
        "id": "wpZe6oXj76wx",
        "outputId": "b37a515a-0025-4e3a-a991-30f5eb2ed0fd"
      },
      "outputs": [
        {
          "name": "stdout",
          "output_type": "stream",
          "text": [
            "[LightGBM] [Info] Number of positive: 498, number of negative: 11744\n",
            "[LightGBM] [Info] Auto-choosing row-wise multi-threading, the overhead of testing was 0.000673 seconds.\n",
            "You can set `force_row_wise=true` to remove the overhead.\n",
            "And if memory is not enough, you can set `force_col_wise=true`.\n",
            "[LightGBM] [Info] Total Bins 623\n",
            "[LightGBM] [Info] Number of data points in the train set: 12242, number of used features: 17\n",
            "[LightGBM] [Info] [binary:BoostFromScore]: pavg=0.040680 -> initscore=-3.160498\n",
            "[LightGBM] [Info] Start training from score -3.160498\n",
            "[LightGBM] [Info] Number of positive: 498, number of negative: 11744\n",
            "[LightGBM] [Info] Auto-choosing col-wise multi-threading, the overhead of testing was 0.001033 seconds.\n",
            "You can set `force_col_wise=true` to remove the overhead.\n",
            "[LightGBM] [Info] Total Bins 623\n",
            "[LightGBM] [Info] Number of data points in the train set: 12242, number of used features: 17\n",
            "[LightGBM] [Info] [binary:BoostFromScore]: pavg=0.040680 -> initscore=-3.160498\n",
            "[LightGBM] [Info] Start training from score -3.160498\n"
          ]
        }
      ],
      "source": [
        "voting_clf_hard = VotingClassifier(estimators=estimators, voting='hard')\n",
        "voting_clf_hard.fit(X_train, y_train)\n",
        "voting_clf_mat = metric_df(voting_clf_hard, 'Voting Classifier Hard')\n",
        "predictions.append(voting_clf_mat)"
      ]
    },
    {
      "cell_type": "code",
      "execution_count": 210,
      "metadata": {
        "colab": {
          "base_uri": "https://localhost:8080/",
          "height": 89
        },
        "id": "dXkcn4CM88Xp",
        "outputId": "1351c22a-5f85-4172-fcb6-556130b9762b"
      },
      "outputs": [
        {
          "data": {
            "text/html": [
              "<div>\n",
              "<style scoped>\n",
              "    .dataframe tbody tr th:only-of-type {\n",
              "        vertical-align: middle;\n",
              "    }\n",
              "\n",
              "    .dataframe tbody tr th {\n",
              "        vertical-align: top;\n",
              "    }\n",
              "\n",
              "    .dataframe thead th {\n",
              "        text-align: right;\n",
              "    }\n",
              "</style>\n",
              "<table border=\"1\" class=\"dataframe\">\n",
              "  <thead>\n",
              "    <tr style=\"text-align: right;\">\n",
              "      <th></th>\n",
              "      <th>Model</th>\n",
              "      <th>Accuracy</th>\n",
              "      <th>Recall</th>\n",
              "      <th>Precision</th>\n",
              "      <th>F1</th>\n",
              "    </tr>\n",
              "  </thead>\n",
              "  <tbody>\n",
              "    <tr>\n",
              "      <th>0</th>\n",
              "      <td>Voting Classifier Hard</td>\n",
              "      <td>0.95361</td>\n",
              "      <td>0.037313</td>\n",
              "      <td>0.277778</td>\n",
              "      <td>0.065789</td>\n",
              "    </tr>\n",
              "  </tbody>\n",
              "</table>\n",
              "</div>"
            ],
            "text/plain": [
              "                    Model  Accuracy    Recall  Precision        F1\n",
              "0  Voting Classifier Hard   0.95361  0.037313   0.277778  0.065789"
            ]
          },
          "execution_count": 210,
          "metadata": {},
          "output_type": "execute_result"
        }
      ],
      "source": [
        "voting_clf_mat"
      ]
    },
    {
      "cell_type": "code",
      "execution_count": 211,
      "metadata": {
        "colab": {
          "base_uri": "https://localhost:8080/"
        },
        "id": "MmV4tIB-9Gky",
        "outputId": "ab47a7ef-e234-4f59-87f0-ae9c30d86901"
      },
      "outputs": [
        {
          "name": "stderr",
          "output_type": "stream",
          "text": [
            "c:\\Users\\saura\\Downloads\\brainStroke\\.venv\\lib\\site-packages\\sklearn\\linear_model\\_logistic.py:460: ConvergenceWarning:\n",
            "\n",
            "lbfgs failed to converge (status=1):\n",
            "STOP: TOTAL NO. of ITERATIONS REACHED LIMIT.\n",
            "\n",
            "Increase the number of iterations (max_iter) or scale the data as shown in:\n",
            "    https://scikit-learn.org/stable/modules/preprocessing.html\n",
            "Please also refer to the documentation for alternative solver options:\n",
            "    https://scikit-learn.org/stable/modules/linear_model.html#logistic-regression\n",
            "\n"
          ]
        },
        {
          "name": "stdout",
          "output_type": "stream",
          "text": [
            "[LightGBM] [Info] Number of positive: 498, number of negative: 11744\n",
            "[LightGBM] [Info] Auto-choosing row-wise multi-threading, the overhead of testing was 0.001753 seconds.\n",
            "You can set `force_row_wise=true` to remove the overhead.\n",
            "And if memory is not enough, you can set `force_col_wise=true`.\n",
            "[LightGBM] [Info] Total Bins 623\n",
            "[LightGBM] [Info] Number of data points in the train set: 12242, number of used features: 17\n",
            "[LightGBM] [Info] [binary:BoostFromScore]: pavg=0.040680 -> initscore=-3.160498\n",
            "[LightGBM] [Info] Start training from score -3.160498\n"
          ]
        },
        {
          "name": "stderr",
          "output_type": "stream",
          "text": [
            "c:\\Users\\saura\\Downloads\\brainStroke\\.venv\\lib\\site-packages\\sklearn\\linear_model\\_logistic.py:460: ConvergenceWarning:\n",
            "\n",
            "lbfgs failed to converge (status=1):\n",
            "STOP: TOTAL NO. of ITERATIONS REACHED LIMIT.\n",
            "\n",
            "Increase the number of iterations (max_iter) or scale the data as shown in:\n",
            "    https://scikit-learn.org/stable/modules/preprocessing.html\n",
            "Please also refer to the documentation for alternative solver options:\n",
            "    https://scikit-learn.org/stable/modules/linear_model.html#logistic-regression\n",
            "\n"
          ]
        },
        {
          "name": "stdout",
          "output_type": "stream",
          "text": [
            "[LightGBM] [Info] Number of positive: 498, number of negative: 11744\n",
            "[LightGBM] [Info] Auto-choosing row-wise multi-threading, the overhead of testing was 0.000646 seconds.\n",
            "You can set `force_row_wise=true` to remove the overhead.\n",
            "And if memory is not enough, you can set `force_col_wise=true`.\n",
            "[LightGBM] [Info] Total Bins 623\n",
            "[LightGBM] [Info] Number of data points in the train set: 12242, number of used features: 17\n",
            "[LightGBM] [Info] [binary:BoostFromScore]: pavg=0.040680 -> initscore=-3.160498\n",
            "[LightGBM] [Info] Start training from score -3.160498\n"
          ]
        }
      ],
      "source": [
        "voting_clf_soft = VotingClassifier(estimators=estimator, voting='soft')\n",
        "voting_clf_soft.fit(X_train, y_train)\n",
        "voting_clf_soft_mat = metric_df(voting_clf_soft, 'Voting Classifier Soft')\n",
        "predictions.append(voting_clf_soft_mat)"
      ]
    },
    {
      "cell_type": "code",
      "execution_count": 212,
      "metadata": {
        "colab": {
          "base_uri": "https://localhost:8080/",
          "height": 89
        },
        "id": "Tu5gKRH599kl",
        "outputId": "f1debd53-ab74-4ac8-e597-b1a501f2bb83"
      },
      "outputs": [
        {
          "data": {
            "text/html": [
              "<div>\n",
              "<style scoped>\n",
              "    .dataframe tbody tr th:only-of-type {\n",
              "        vertical-align: middle;\n",
              "    }\n",
              "\n",
              "    .dataframe tbody tr th {\n",
              "        vertical-align: top;\n",
              "    }\n",
              "\n",
              "    .dataframe thead th {\n",
              "        text-align: right;\n",
              "    }\n",
              "</style>\n",
              "<table border=\"1\" class=\"dataframe\">\n",
              "  <thead>\n",
              "    <tr style=\"text-align: right;\">\n",
              "      <th></th>\n",
              "      <th>Model</th>\n",
              "      <th>Accuracy</th>\n",
              "      <th>Recall</th>\n",
              "      <th>Precision</th>\n",
              "      <th>F1</th>\n",
              "    </tr>\n",
              "  </thead>\n",
              "  <tbody>\n",
              "    <tr>\n",
              "      <th>0</th>\n",
              "      <td>Voting Classifier Soft</td>\n",
              "      <td>0.953937</td>\n",
              "      <td>0.074627</td>\n",
              "      <td>0.37037</td>\n",
              "      <td>0.124224</td>\n",
              "    </tr>\n",
              "  </tbody>\n",
              "</table>\n",
              "</div>"
            ],
            "text/plain": [
              "                    Model  Accuracy    Recall  Precision        F1\n",
              "0  Voting Classifier Soft  0.953937  0.074627    0.37037  0.124224"
            ]
          },
          "execution_count": 212,
          "metadata": {},
          "output_type": "execute_result"
        }
      ],
      "source": [
        "voting_clf_soft_mat"
      ]
    },
    {
      "cell_type": "code",
      "execution_count": 213,
      "metadata": {
        "colab": {
          "base_uri": "https://localhost:8080/",
          "height": 300
        },
        "id": "H6jW32hi-DCY",
        "outputId": "75379b38-80aa-4619-fa8e-23defffa145d"
      },
      "outputs": [
        {
          "data": {
            "text/html": [
              "<style type=\"text/css\">\n",
              "</style>\n",
              "<table id=\"T_b2b7f\">\n",
              "  <thead>\n",
              "    <tr>\n",
              "      <th id=\"T_b2b7f_level0_col0\" class=\"col_heading level0 col0\" >Model</th>\n",
              "      <th id=\"T_b2b7f_level0_col1\" class=\"col_heading level0 col1\" >Accuracy</th>\n",
              "      <th id=\"T_b2b7f_level0_col2\" class=\"col_heading level0 col2\" >Recall</th>\n",
              "      <th id=\"T_b2b7f_level0_col3\" class=\"col_heading level0 col3\" >Precision</th>\n",
              "      <th id=\"T_b2b7f_level0_col4\" class=\"col_heading level0 col4\" >F1</th>\n",
              "    </tr>\n",
              "  </thead>\n",
              "  <tbody>\n",
              "    <tr>\n",
              "      <td id=\"T_b2b7f_row0_col0\" class=\"data row0 col0\" >Decision Tree</td>\n",
              "      <td id=\"T_b2b7f_row0_col1\" class=\"data row0 col1\" >0.929435</td>\n",
              "      <td id=\"T_b2b7f_row0_col2\" class=\"data row0 col2\" >0.238806</td>\n",
              "      <td id=\"T_b2b7f_row0_col3\" class=\"data row0 col3\" >0.219178</td>\n",
              "      <td id=\"T_b2b7f_row0_col4\" class=\"data row0 col4\" >0.228571</td>\n",
              "    </tr>\n",
              "    <tr>\n",
              "      <td id=\"T_b2b7f_row1_col0\" class=\"data row1 col0\" >XGBoost</td>\n",
              "      <td id=\"T_b2b7f_row1_col1\" class=\"data row1 col1\" >0.952303</td>\n",
              "      <td id=\"T_b2b7f_row1_col2\" class=\"data row1 col2\" >0.097015</td>\n",
              "      <td id=\"T_b2b7f_row1_col3\" class=\"data row1 col3\" >0.342105</td>\n",
              "      <td id=\"T_b2b7f_row1_col4\" class=\"data row1 col4\" >0.151163</td>\n",
              "    </tr>\n",
              "    <tr>\n",
              "      <td id=\"T_b2b7f_row2_col0\" class=\"data row2 col0\" >Voting Classifier Soft</td>\n",
              "      <td id=\"T_b2b7f_row2_col1\" class=\"data row2 col1\" >0.953937</td>\n",
              "      <td id=\"T_b2b7f_row2_col2\" class=\"data row2 col2\" >0.074627</td>\n",
              "      <td id=\"T_b2b7f_row2_col3\" class=\"data row2 col3\" >0.370370</td>\n",
              "      <td id=\"T_b2b7f_row2_col4\" class=\"data row2 col4\" >0.124224</td>\n",
              "    </tr>\n",
              "    <tr>\n",
              "      <td id=\"T_b2b7f_row3_col0\" class=\"data row3 col0\" >Random Forest</td>\n",
              "      <td id=\"T_b2b7f_row3_col1\" class=\"data row3 col1\" >0.953937</td>\n",
              "      <td id=\"T_b2b7f_row3_col2\" class=\"data row3 col2\" >0.067164</td>\n",
              "      <td id=\"T_b2b7f_row3_col3\" class=\"data row3 col3\" >0.360000</td>\n",
              "      <td id=\"T_b2b7f_row3_col4\" class=\"data row3 col4\" >0.113208</td>\n",
              "    </tr>\n",
              "    <tr>\n",
              "      <td id=\"T_b2b7f_row4_col0\" class=\"data row4 col0\" >LightGBM</td>\n",
              "      <td id=\"T_b2b7f_row4_col1\" class=\"data row4 col1\" >0.954263</td>\n",
              "      <td id=\"T_b2b7f_row4_col2\" class=\"data row4 col2\" >0.052239</td>\n",
              "      <td id=\"T_b2b7f_row4_col3\" class=\"data row4 col3\" >0.350000</td>\n",
              "      <td id=\"T_b2b7f_row4_col4\" class=\"data row4 col4\" >0.090909</td>\n",
              "    </tr>\n",
              "    <tr>\n",
              "      <td id=\"T_b2b7f_row5_col0\" class=\"data row5 col0\" >Voting Classifier Hard</td>\n",
              "      <td id=\"T_b2b7f_row5_col1\" class=\"data row5 col1\" >0.953610</td>\n",
              "      <td id=\"T_b2b7f_row5_col2\" class=\"data row5 col2\" >0.037313</td>\n",
              "      <td id=\"T_b2b7f_row5_col3\" class=\"data row5 col3\" >0.277778</td>\n",
              "      <td id=\"T_b2b7f_row5_col4\" class=\"data row5 col4\" >0.065789</td>\n",
              "    </tr>\n",
              "    <tr>\n",
              "      <td id=\"T_b2b7f_row6_col0\" class=\"data row6 col0\" >Logistic Regression</td>\n",
              "      <td id=\"T_b2b7f_row6_col1\" class=\"data row6 col1\" >0.954917</td>\n",
              "      <td id=\"T_b2b7f_row6_col2\" class=\"data row6 col2\" >0.022388</td>\n",
              "      <td id=\"T_b2b7f_row6_col3\" class=\"data row6 col3\" >0.300000</td>\n",
              "      <td id=\"T_b2b7f_row6_col4\" class=\"data row6 col4\" >0.041667</td>\n",
              "    </tr>\n",
              "    <tr>\n",
              "      <td id=\"T_b2b7f_row7_col0\" class=\"data row7 col0\" >Logistic Regression with SMOTE</td>\n",
              "      <td id=\"T_b2b7f_row7_col1\" class=\"data row7 col1\" >0.954917</td>\n",
              "      <td id=\"T_b2b7f_row7_col2\" class=\"data row7 col2\" >0.022388</td>\n",
              "      <td id=\"T_b2b7f_row7_col3\" class=\"data row7 col3\" >0.300000</td>\n",
              "      <td id=\"T_b2b7f_row7_col4\" class=\"data row7 col4\" >0.041667</td>\n",
              "    </tr>\n",
              "  </tbody>\n",
              "</table>\n"
            ],
            "text/plain": [
              "<pandas.io.formats.style.Styler at 0x185b28ca5b0>"
            ]
          },
          "execution_count": 213,
          "metadata": {},
          "output_type": "execute_result"
        }
      ],
      "source": [
        "prediction_base = pd.concat(predictions, ignore_index=True, sort=False)\n",
        "prediction_base = prediction_base.sort_values(by=['Recall'], ascending=False).style.hide(axis='index')\n",
        "prediction_base"
      ]
    },
    {
      "cell_type": "code",
      "execution_count": 214,
      "metadata": {
        "id": "4hXZ7bvd_AkO"
      },
      "outputs": [],
      "source": [
        "models_to_plot = [\n",
        "    'Logistic Regression',\n",
        "    'Decision Tree',\n",
        "    'Random Forest',\n",
        "    'XGBoost',\n",
        "    'LightGBM',\n",
        "    'Logistic Regression with SMOTE',\n",
        "\n",
        "]"
      ]
    },
    {
      "cell_type": "code",
      "execution_count": 215,
      "metadata": {
        "colab": {
          "base_uri": "https://localhost:8080/",
          "height": 906
        },
        "id": "Vt4DizhPL5h7",
        "outputId": "fecc97ca-c5a5-4ae4-9b98-b727af0dbed2"
      },
      "outputs": [
        {
          "data": {
            "image/png": "[encoded data removed]",
            "text/plain": [
              "<Figure size 900x900 with 12 Axes>"
            ]
          },
          "metadata": {},
          "output_type": "display_data"
        }
      ],
      "source": [
        "fig, axes = plt.subplots(nrows=3, ncols=2, figsize=(9, 9))\n",
        "axes = axes.flatten()\n",
        "\n",
        "for i, model_name in enumerate(models_to_plot):\n",
        "    conf_matrix = confusion_mats[model_name]\n",
        "    sns.heatmap(conf_matrix, annot=True, fmt='d', cmap='Blues', ax=axes[i])\n",
        "    axes[i].set_title(f'Confusion Matrix - {model_name}')\n",
        "    axes[i].set_xlabel('Predicted')\n",
        "    axes[i].set_ylabel('Actual')\n",
        "\n",
        "plt.tight_layout()\n",
        "plt.show()\n"
      ]
    },
    {
      "cell_type": "markdown",
      "metadata": {
        "id": "pXwrnb9SC67D"
      },
      "source": [
        "**AUC AND ROC CURVE**"
      ]
    },
    {
      "cell_type": "code",
      "execution_count": 216,
      "metadata": {
        "id": "rhE7z10wMBXT"
      },
      "outputs": [],
      "source": [
        "from sklearn.metrics import roc_curve, auc, roc_auc_score\n",
        "import matplotlib.pyplot as plt\n",
        "import numpy as np"
      ]
    },
    {
      "cell_type": "code",
      "execution_count": 217,
      "metadata": {
        "id": "5Eu2aQO8DK86"
      },
      "outputs": [],
      "source": [
        "def plot_roc_curve(y_true, y_pred_proba):\n",
        "    fpr, tpr, thresholds = roc_curve(y_true, y_pred_proba)\n",
        "\n",
        "    roc_auc = auc(fpr, tpr)\n",
        "\n",
        "    plt.figure(figsize=(8, 6))\n",
        "    plt.plot(fpr, tpr, color='darkorange', lw=2,\n",
        "             label=f'ROC curve (AUC = {roc_auc:.2f})')\n",
        "    plt.plot([0, 1], [0, 1], color='navy', lw=2, linestyle='--')\n",
        "    plt.xlim([0.0, 1.0])\n",
        "    plt.ylim([0.0, 1.05])\n",
        "    plt.xlabel('False Positive Rate')\n",
        "    plt.ylabel('True Positive Rate')\n",
        "    plt.title('Receiver Operating Characteristic (ROC) Curve')\n",
        "    plt.legend(loc=\"lower right\")\n",
        "    plt.grid(True)\n",
        "\n",
        "    return roc_auc"
      ]
    },
    {
      "cell_type": "code",
      "execution_count": 218,
      "metadata": {
        "colab": {
          "base_uri": "https://localhost:8080/",
          "height": 581
        },
        "id": "OuTRBlQiD84E",
        "outputId": "94028bc2-1247-42fa-8cc8-477f7435c191"
      },
      "outputs": [
        {
          "name": "stdout",
          "output_type": "stream",
          "text": [
            "AUC Score: 0.990\n"
          ]
        },
        {
          "data": {
            "image/png": "[encoded data removed]",
            "text/plain": [
              "<Figure size 800x600 with 1 Axes>"
            ]
          },
          "metadata": {},
          "output_type": "display_data"
        }
      ],
      "source": [
        "if __name__ == \"__main__\":\n",
        "    np.random.seed(42)\n",
        "    n_samples = 1000\n",
        "\n",
        "    y_true = np.random.randint(0, 2, n_samples)\n",
        "\n",
        "    y_pred_proba = y_true + np.random.normal(0, 0.3, n_samples)\n",
        "    y_pred_proba = np.clip(y_pred_proba, 0, 1)\n",
        "\n",
        "    auc_score = plot_roc_curve(y_true, y_pred_proba)\n",
        "    print(f\"AUC Score: {auc_score:.3f}\")\n",
        "    plt.show()"
      ]
    },
    {
      "cell_type": "markdown",
      "metadata": {
        "id": "QDwkC6Sb7Wx9"
      },
      "source": [
        "**RETRAIN AND SAVE MODEL**"
      ]
    },
    {
      "cell_type": "code",
      "execution_count": 219,
      "metadata": {
        "id": "lphFxz4KEk8B"
      },
      "outputs": [],
      "source": [
        "X_train = train_inputs[numerical_cols+encoded_cols]\n",
        "y_train = train_df[target_col]\n",
        "\n"
      ]
    },
    {
      "cell_type": "code",
      "execution_count": 220,
      "metadata": {
        "id": "I6XY0VOJ74wj"
      },
      "outputs": [],
      "source": [
        "preds = lr_with_smote.predict(X_test)"
      ]
    },
    {
      "cell_type": "code",
      "execution_count": 221,
      "metadata": {
        "colab": {
          "base_uri": "https://localhost:8080/"
        },
        "id": "32VgZQF5yGPz",
        "outputId": "77fd03ad-736e-421f-a007-d63e4aed447d"
      },
      "outputs": [
        {
          "data": {
            "text/plain": [
              "array([0, 0, 0, ..., 0, 0, 0], dtype=int64)"
            ]
          },
          "execution_count": 221,
          "metadata": {},
          "output_type": "execute_result"
        }
      ],
      "source": [
        "preds"
      ]
    },
    {
      "cell_type": "code",
      "execution_count": 222,
      "metadata": {
        "id": "YRvdFRdoyTtP"
      },
      "outputs": [],
      "source": [
        "sub_df = preds"
      ]
    },
    {
      "cell_type": "code",
      "execution_count": 223,
      "metadata": {
        "id": "l229wnmeyTKj"
      },
      "outputs": [],
      "source": [
        "pd.DataFrame(sub_df).to_csv('submission.csv', index=False)"
      ]
    },
    {
      "cell_type": "code",
      "execution_count": 224,
      "metadata": {},
      "outputs": [
        {
          "data": {
            "text/html": [
              "<div>\n",
              "<style scoped>\n",
              "    .dataframe tbody tr th:only-of-type {\n",
              "        vertical-align: middle;\n",
              "    }\n",
              "\n",
              "    .dataframe tbody tr th {\n",
              "        vertical-align: top;\n",
              "    }\n",
              "\n",
              "    .dataframe thead th {\n",
              "        text-align: right;\n",
              "    }\n",
              "</style>\n",
              "<table border=\"1\" class=\"dataframe\">\n",
              "  <thead>\n",
              "    <tr style=\"text-align: right;\">\n",
              "      <th></th>\n",
              "      <th>Feature</th>\n",
              "      <th>Importance</th>\n",
              "    </tr>\n",
              "  </thead>\n",
              "  <tbody>\n",
              "    <tr>\n",
              "      <th>1</th>\n",
              "      <td>hypertension</td>\n",
              "      <td>0.515831</td>\n",
              "    </tr>\n",
              "    <tr>\n",
              "      <th>5</th>\n",
              "      <td>ordinal_enc__smoking_status</td>\n",
              "      <td>0.102072</td>\n",
              "    </tr>\n",
              "    <tr>\n",
              "      <th>2</th>\n",
              "      <td>heart_disease</td>\n",
              "      <td>0.094897</td>\n",
              "    </tr>\n",
              "    <tr>\n",
              "      <th>0</th>\n",
              "      <td>age</td>\n",
              "      <td>0.091244</td>\n",
              "    </tr>\n",
              "    <tr>\n",
              "      <th>4</th>\n",
              "      <td>bmi</td>\n",
              "      <td>0.016436</td>\n",
              "    </tr>\n",
              "    <tr>\n",
              "      <th>3</th>\n",
              "      <td>avg_glucose_level</td>\n",
              "      <td>0.008452</td>\n",
              "    </tr>\n",
              "    <tr>\n",
              "      <th>11</th>\n",
              "      <td>onehot_enc__work_type_Never_worked</td>\n",
              "      <td>-0.025048</td>\n",
              "    </tr>\n",
              "    <tr>\n",
              "      <th>12</th>\n",
              "      <td>onehot_enc__work_type_Private</td>\n",
              "      <td>-0.630981</td>\n",
              "    </tr>\n",
              "    <tr>\n",
              "      <th>10</th>\n",
              "      <td>onehot_enc__work_type_Govt_job</td>\n",
              "      <td>-0.712402</td>\n",
              "    </tr>\n",
              "    <tr>\n",
              "      <th>13</th>\n",
              "      <td>onehot_enc__work_type_Self-employed</td>\n",
              "      <td>-1.035617</td>\n",
              "    </tr>\n",
              "    <tr>\n",
              "      <th>14</th>\n",
              "      <td>onehot_enc__work_type_children</td>\n",
              "      <td>-1.130629</td>\n",
              "    </tr>\n",
              "    <tr>\n",
              "      <th>8</th>\n",
              "      <td>onehot_enc__ever_married_No</td>\n",
              "      <td>-1.624220</td>\n",
              "    </tr>\n",
              "    <tr>\n",
              "      <th>7</th>\n",
              "      <td>onehot_enc__gender_Male</td>\n",
              "      <td>-1.728815</td>\n",
              "    </tr>\n",
              "    <tr>\n",
              "      <th>16</th>\n",
              "      <td>onehot_enc__Residence_type_Urban</td>\n",
              "      <td>-1.758678</td>\n",
              "    </tr>\n",
              "    <tr>\n",
              "      <th>15</th>\n",
              "      <td>onehot_enc__Residence_type_Rural</td>\n",
              "      <td>-1.775998</td>\n",
              "    </tr>\n",
              "    <tr>\n",
              "      <th>6</th>\n",
              "      <td>onehot_enc__gender_Female</td>\n",
              "      <td>-1.805862</td>\n",
              "    </tr>\n",
              "    <tr>\n",
              "      <th>9</th>\n",
              "      <td>onehot_enc__ever_married_Yes</td>\n",
              "      <td>-1.910456</td>\n",
              "    </tr>\n",
              "  </tbody>\n",
              "</table>\n",
              "</div>"
            ],
            "text/plain": [
              "                                Feature  Importance\n",
              "1                          hypertension    0.515831\n",
              "5           ordinal_enc__smoking_status    0.102072\n",
              "2                         heart_disease    0.094897\n",
              "0                                   age    0.091244\n",
              "4                                   bmi    0.016436\n",
              "3                     avg_glucose_level    0.008452\n",
              "11   onehot_enc__work_type_Never_worked   -0.025048\n",
              "12        onehot_enc__work_type_Private   -0.630981\n",
              "10       onehot_enc__work_type_Govt_job   -0.712402\n",
              "13  onehot_enc__work_type_Self-employed   -1.035617\n",
              "14       onehot_enc__work_type_children   -1.130629\n",
              "8           onehot_enc__ever_married_No   -1.624220\n",
              "7               onehot_enc__gender_Male   -1.728815\n",
              "16     onehot_enc__Residence_type_Urban   -1.758678\n",
              "15     onehot_enc__Residence_type_Rural   -1.775998\n",
              "6             onehot_enc__gender_Female   -1.805862\n",
              "9          onehot_enc__ever_married_Yes   -1.910456"
            ]
          },
          "execution_count": 224,
          "metadata": {},
          "output_type": "execute_result"
        }
      ],
      "source": [
        "\n",
        "importances = lr_with_smote.coef_[0]  # For Logistic Regression\n",
        "feature_importance = pd.DataFrame({'Feature': X_train.columns, 'Importance': importances})\n",
        "feature_importance.sort_values(by='Importance', ascending=False)"
      ]
    },
    {
      "cell_type": "code",
      "execution_count": 225,
      "metadata": {
        "colab": {
          "base_uri": "https://localhost:8080/",
          "height": 206
        },
        "id": "u6XnJsQH8PnP",
        "outputId": "bb3da6a3-9760-4493-a7e1-4959cf1fd47b"
      },
      "outputs": [
        {
          "data": {
            "text/html": [
              "<div>\n",
              "<style scoped>\n",
              "    .dataframe tbody tr th:only-of-type {\n",
              "        vertical-align: middle;\n",
              "    }\n",
              "\n",
              "    .dataframe tbody tr th {\n",
              "        vertical-align: top;\n",
              "    }\n",
              "\n",
              "    .dataframe thead th {\n",
              "        text-align: right;\n",
              "    }\n",
              "</style>\n",
              "<table border=\"1\" class=\"dataframe\">\n",
              "  <thead>\n",
              "    <tr style=\"text-align: right;\">\n",
              "      <th></th>\n",
              "      <th>0</th>\n",
              "    </tr>\n",
              "  </thead>\n",
              "  <tbody>\n",
              "    <tr>\n",
              "      <th>0</th>\n",
              "      <td>0</td>\n",
              "    </tr>\n",
              "    <tr>\n",
              "      <th>1</th>\n",
              "      <td>0</td>\n",
              "    </tr>\n",
              "    <tr>\n",
              "      <th>2</th>\n",
              "      <td>0</td>\n",
              "    </tr>\n",
              "    <tr>\n",
              "      <th>3</th>\n",
              "      <td>0</td>\n",
              "    </tr>\n",
              "    <tr>\n",
              "      <th>4</th>\n",
              "      <td>0</td>\n",
              "    </tr>\n",
              "  </tbody>\n",
              "</table>\n",
              "</div>"
            ],
            "text/plain": [
              "   0\n",
              "0  0\n",
              "1  0\n",
              "2  0\n",
              "3  0\n",
              "4  0"
            ]
          },
          "execution_count": 225,
          "metadata": {},
          "output_type": "execute_result"
        }
      ],
      "source": [
        "sub_df = pd.read_csv('submission.csv')\n",
        "sub_df.head()"
      ]
    },
    {
      "cell_type": "markdown",
      "metadata": {
        "id": "p1rZbnvOqt6n"
      },
      "source": [
        "**With Decision Tree**"
      ]
    },
    {
      "cell_type": "code",
      "execution_count": 226,
      "metadata": {
        "id": "4Y6UYyvTqtNP"
      },
      "outputs": [],
      "source": [
        "from sklearn.pipeline import Pipeline\n",
        "from imblearn.pipeline import Pipeline as ImbPipeline  # If using imbalanced-learn\n",
        "from imblearn.over_sampling import SMOTE\n",
        "from sklearn.preprocessing import StandardScaler\n",
        "from sklearn.linear_model import LogisticRegression\n"
      ]
    },
    {
      "cell_type": "code",
      "execution_count": 227,
      "metadata": {
        "id": "54VAho0hwiTV"
      },
      "outputs": [],
      "source": [
        "pipeline = ImbPipeline([\n",
        "    ('smote', SMOTE(random_state=42)),\n",
        "    ('scaler', StandardScaler()),  # Optional preprocessing\n",
        "    ('classifier', LogisticRegression())  # Or DecisionTreeClassifier()\n",
        "])"
      ]
    },
    {
      "cell_type": "code",
      "execution_count": 228,
      "metadata": {
        "colab": {
          "base_uri": "https://localhost:8080/",
          "height": 195
        },
        "id": "uWIHqtecxJx1",
        "outputId": "41a1e2b9-96b9-4768-fef8-8839f27df3c6"
      },
      "outputs": [
        {
          "data": {
            "text/html": [
              "<style>#sk-container-id-5 {color: black;}#sk-container-id-5 pre{padding: 0;}#sk-container-id-5 div.sk-toggleable {background-color: white;}#sk-container-id-5 label.sk-toggleable__label {cursor: pointer;display: block;width: 100%;margin-bottom: 0;padding: 0.3em;box-sizing: border-box;text-align: center;}#sk-container-id-5 label.sk-toggleable__label-arrow:before {content: \"▸\";float: left;margin-right: 0.25em;color: #696969;}#sk-container-id-5 label.sk-toggleable__label-arrow:hover:before {color: black;}#sk-container-id-5 div.sk-estimator:hover label.sk-toggleable__label-arrow:before {color: black;}#sk-container-id-5 div.sk-toggleable__content {max-height: 0;max-width: 0;overflow: hidden;text-align: left;background-color: #f0f8ff;}#sk-container-id-5 div.sk-toggleable__content pre {margin: 0.2em;color: black;border-radius: 0.25em;background-color: #f0f8ff;}#sk-container-id-5 input.sk-toggleable__control:checked~div.sk-toggleable__content {max-height: 200px;max-width: 100%;overflow: auto;}#sk-container-id-5 input.sk-toggleable__control:checked~label.sk-toggleable__label-arrow:before {content: \"▾\";}#sk-container-id-5 div.sk-estimator input.sk-toggleable__control:checked~label.sk-toggleable__label {background-color: #d4ebff;}#sk-container-id-5 div.sk-label input.sk-toggleable__control:checked~label.sk-toggleable__label {background-color: #d4ebff;}#sk-container-id-5 input.sk-hidden--visually {border: 0;clip: rect(1px 1px 1px 1px);clip: rect(1px, 1px, 1px, 1px);height: 1px;margin: -1px;overflow: hidden;padding: 0;position: absolute;width: 1px;}#sk-container-id-5 div.sk-estimator {font-family: monospace;background-color: #f0f8ff;border: 1px dotted black;border-radius: 0.25em;box-sizing: border-box;margin-bottom: 0.5em;}#sk-container-id-5 div.sk-estimator:hover {background-color: #d4ebff;}#sk-container-id-5 div.sk-parallel-item::after {content: \"\";width: 100%;border-bottom: 1px solid gray;flex-grow: 1;}#sk-container-id-5 div.sk-label:hover label.sk-toggleable__label {background-color: #d4ebff;}#sk-container-id-5 div.sk-serial::before {content: \"\";position: absolute;border-left: 1px solid gray;box-sizing: border-box;top: 0;bottom: 0;left: 50%;z-index: 0;}#sk-container-id-5 div.sk-serial {display: flex;flex-direction: column;align-items: center;background-color: white;padding-right: 0.2em;padding-left: 0.2em;position: relative;}#sk-container-id-5 div.sk-item {position: relative;z-index: 1;}#sk-container-id-5 div.sk-parallel {display: flex;align-items: stretch;justify-content: center;background-color: white;position: relative;}#sk-container-id-5 div.sk-item::before, #sk-container-id-5 div.sk-parallel-item::before {content: \"\";position: absolute;border-left: 1px solid gray;box-sizing: border-box;top: 0;bottom: 0;left: 50%;z-index: -1;}#sk-container-id-5 div.sk-parallel-item {display: flex;flex-direction: column;z-index: 1;position: relative;background-color: white;}#sk-container-id-5 div.sk-parallel-item:first-child::after {align-self: flex-end;width: 50%;}#sk-container-id-5 div.sk-parallel-item:last-child::after {align-self: flex-start;width: 50%;}#sk-container-id-5 div.sk-parallel-item:only-child::after {width: 0;}#sk-container-id-5 div.sk-dashed-wrapped {border: 1px dashed gray;margin: 0 0.4em 0.5em 0.4em;box-sizing: border-box;padding-bottom: 0.4em;background-color: white;}#sk-container-id-5 div.sk-label label {font-family: monospace;font-weight: bold;display: inline-block;line-height: 1.2em;}#sk-container-id-5 div.sk-label-container {text-align: center;}#sk-container-id-5 div.sk-container {/* jupyter's `normalize.less` sets `[hidden] { display: none; }` but bootstrap.min.css set `[hidden] { display: none !important; }` so we also need the `!important` here to be able to override the default hidden behavior on the sphinx rendered scikit-learn.org. See: https://github.com/scikit-learn/scikit-learn/issues/21755 */display: inline-block !important;position: relative;}#sk-container-id-5 div.sk-text-repr-fallback {display: none;}</style><div id=\"sk-container-id-5\" class=\"sk-top-container\"><div class=\"sk-text-repr-fallback\"><pre>Pipeline(steps=[(&#x27;smote&#x27;, SMOTE(random_state=42)), (&#x27;scaler&#x27;, StandardScaler()),\n",
              "                (&#x27;classifier&#x27;, LogisticRegression())])</pre><b>In a Jupyter environment, please rerun this cell to show the HTML representation or trust the notebook. <br />On GitHub, the HTML representation is unable to render, please try loading this page with nbviewer.org.</b></div><div class=\"sk-container\" hidden><div class=\"sk-item sk-dashed-wrapped\"><div class=\"sk-label-container\"><div class=\"sk-label sk-toggleable\"><input class=\"sk-toggleable__control sk-hidden--visually\" id=\"sk-estimator-id-20\" type=\"checkbox\" ><label for=\"sk-estimator-id-20\" class=\"sk-toggleable__label sk-toggleable__label-arrow\">Pipeline</label><div class=\"sk-toggleable__content\"><pre>Pipeline(steps=[(&#x27;smote&#x27;, SMOTE(random_state=42)), (&#x27;scaler&#x27;, StandardScaler()),\n",
              "                (&#x27;classifier&#x27;, LogisticRegression())])</pre></div></div></div><div class=\"sk-serial\"><div class=\"sk-item\"><div class=\"sk-estimator sk-toggleable\"><input class=\"sk-toggleable__control sk-hidden--visually\" id=\"sk-estimator-id-21\" type=\"checkbox\" ><label for=\"sk-estimator-id-21\" class=\"sk-toggleable__label sk-toggleable__label-arrow\">SMOTE</label><div class=\"sk-toggleable__content\"><pre>SMOTE(random_state=42)</pre></div></div></div><div class=\"sk-item\"><div class=\"sk-estimator sk-toggleable\"><input class=\"sk-toggleable__control sk-hidden--visually\" id=\"sk-estimator-id-22\" type=\"checkbox\" ><label for=\"sk-estimator-id-22\" class=\"sk-toggleable__label sk-toggleable__label-arrow\">StandardScaler</label><div class=\"sk-toggleable__content\"><pre>StandardScaler()</pre></div></div></div><div class=\"sk-item\"><div class=\"sk-estimator sk-toggleable\"><input class=\"sk-toggleable__control sk-hidden--visually\" id=\"sk-estimator-id-23\" type=\"checkbox\" ><label for=\"sk-estimator-id-23\" class=\"sk-toggleable__label sk-toggleable__label-arrow\">LogisticRegression</label><div class=\"sk-toggleable__content\"><pre>LogisticRegression()</pre></div></div></div></div></div></div></div>"
            ],
            "text/plain": [
              "Pipeline(steps=[('smote', SMOTE(random_state=42)), ('scaler', StandardScaler()),\n",
              "                ('classifier', LogisticRegression())])"
            ]
          },
          "execution_count": 228,
          "metadata": {},
          "output_type": "execute_result"
        }
      ],
      "source": [
        "pipeline.fit(X_train, y_train)"
      ]
    },
    {
      "cell_type": "code",
      "execution_count": 229,
      "metadata": {
        "id": "O2zko1OvxQ8T"
      },
      "outputs": [],
      "source": [
        "dt_preds = pipeline.predict(X_test)"
      ]
    },
    {
      "cell_type": "code",
      "execution_count": 230,
      "metadata": {
        "id": "ttqgTpxhxfXs"
      },
      "outputs": [],
      "source": [
        "sub_dt_df = pd.DataFrame(dt_preds)"
      ]
    },
    {
      "cell_type": "code",
      "execution_count": 231,
      "metadata": {
        "id": "6o1UhpDuxpDc"
      },
      "outputs": [],
      "source": [
        "sub_dt_df.to_csv('submission.csv', index=False)"
      ]
    },
    {
      "cell_type": "code",
      "execution_count": 232,
      "metadata": {
        "colab": {
          "base_uri": "https://localhost:8080/",
          "height": 206
        },
        "id": "W-yNijemxv6B",
        "outputId": "6200f0de-aab4-41ae-e2b8-3fd7075588d2"
      },
      "outputs": [
        {
          "data": {
            "text/html": [
              "<div>\n",
              "<style scoped>\n",
              "    .dataframe tbody tr th:only-of-type {\n",
              "        vertical-align: middle;\n",
              "    }\n",
              "\n",
              "    .dataframe tbody tr th {\n",
              "        vertical-align: top;\n",
              "    }\n",
              "\n",
              "    .dataframe thead th {\n",
              "        text-align: right;\n",
              "    }\n",
              "</style>\n",
              "<table border=\"1\" class=\"dataframe\">\n",
              "  <thead>\n",
              "    <tr style=\"text-align: right;\">\n",
              "      <th></th>\n",
              "      <th>0</th>\n",
              "    </tr>\n",
              "  </thead>\n",
              "  <tbody>\n",
              "    <tr>\n",
              "      <th>0</th>\n",
              "      <td>1</td>\n",
              "    </tr>\n",
              "    <tr>\n",
              "      <th>1</th>\n",
              "      <td>1</td>\n",
              "    </tr>\n",
              "    <tr>\n",
              "      <th>2</th>\n",
              "      <td>0</td>\n",
              "    </tr>\n",
              "    <tr>\n",
              "      <th>3</th>\n",
              "      <td>1</td>\n",
              "    </tr>\n",
              "    <tr>\n",
              "      <th>4</th>\n",
              "      <td>0</td>\n",
              "    </tr>\n",
              "  </tbody>\n",
              "</table>\n",
              "</div>"
            ],
            "text/plain": [
              "   0\n",
              "0  1\n",
              "1  1\n",
              "2  0\n",
              "3  1\n",
              "4  0"
            ]
          },
          "execution_count": 232,
          "metadata": {},
          "output_type": "execute_result"
        }
      ],
      "source": [
        "sub_dt_df = pd.read_csv('submission.csv')\n",
        "sub_dt_df.head()"
      ]
    },
    {
      "cell_type": "code",
      "execution_count": 233,
      "metadata": {
        "colab": {
          "base_uri": "https://localhost:8080/",
          "height": 423
        },
        "id": "Ih8OGHApx3PB",
        "outputId": "d6b98393-1ca0-4b83-f18c-4b998938412d"
      },
      "outputs": [
        {
          "data": {
            "text/html": [
              "<div>\n",
              "<style scoped>\n",
              "    .dataframe tbody tr th:only-of-type {\n",
              "        vertical-align: middle;\n",
              "    }\n",
              "\n",
              "    .dataframe tbody tr th {\n",
              "        vertical-align: top;\n",
              "    }\n",
              "\n",
              "    .dataframe thead th {\n",
              "        text-align: right;\n",
              "    }\n",
              "</style>\n",
              "<table border=\"1\" class=\"dataframe\">\n",
              "  <thead>\n",
              "    <tr style=\"text-align: right;\">\n",
              "      <th></th>\n",
              "      <th>0</th>\n",
              "      <th>stroke</th>\n",
              "    </tr>\n",
              "  </thead>\n",
              "  <tbody>\n",
              "    <tr>\n",
              "      <th>0</th>\n",
              "      <td>1</td>\n",
              "      <td>1</td>\n",
              "    </tr>\n",
              "    <tr>\n",
              "      <th>1</th>\n",
              "      <td>1</td>\n",
              "      <td>1</td>\n",
              "    </tr>\n",
              "    <tr>\n",
              "      <th>2</th>\n",
              "      <td>0</td>\n",
              "      <td>0</td>\n",
              "    </tr>\n",
              "    <tr>\n",
              "      <th>3</th>\n",
              "      <td>1</td>\n",
              "      <td>1</td>\n",
              "    </tr>\n",
              "    <tr>\n",
              "      <th>4</th>\n",
              "      <td>0</td>\n",
              "      <td>0</td>\n",
              "    </tr>\n",
              "    <tr>\n",
              "      <th>...</th>\n",
              "      <td>...</td>\n",
              "      <td>...</td>\n",
              "    </tr>\n",
              "    <tr>\n",
              "      <th>10198</th>\n",
              "      <td>0</td>\n",
              "      <td>0</td>\n",
              "    </tr>\n",
              "    <tr>\n",
              "      <th>10199</th>\n",
              "      <td>0</td>\n",
              "      <td>0</td>\n",
              "    </tr>\n",
              "    <tr>\n",
              "      <th>10200</th>\n",
              "      <td>0</td>\n",
              "      <td>0</td>\n",
              "    </tr>\n",
              "    <tr>\n",
              "      <th>10201</th>\n",
              "      <td>0</td>\n",
              "      <td>0</td>\n",
              "    </tr>\n",
              "    <tr>\n",
              "      <th>10202</th>\n",
              "      <td>0</td>\n",
              "      <td>0</td>\n",
              "    </tr>\n",
              "  </tbody>\n",
              "</table>\n",
              "<p>10203 rows × 2 columns</p>\n",
              "</div>"
            ],
            "text/plain": [
              "       0  stroke\n",
              "0      1       1\n",
              "1      1       1\n",
              "2      0       0\n",
              "3      1       1\n",
              "4      0       0\n",
              "...   ..     ...\n",
              "10198  0       0\n",
              "10199  0       0\n",
              "10200  0       0\n",
              "10201  0       0\n",
              "10202  0       0\n",
              "\n",
              "[10203 rows x 2 columns]"
            ]
          },
          "execution_count": 233,
          "metadata": {},
          "output_type": "execute_result"
        }
      ],
      "source": [
        "sub_dt_df['stroke'] = dt_preds\n",
        "sub_dt_df"
      ]
    },
    {
      "cell_type": "code",
      "execution_count": 234,
      "metadata": {
        "colab": {
          "base_uri": "https://localhost:8080/",
          "height": 300
        },
        "id": "oyzLvdIf9x_u",
        "outputId": "da4392d0-e689-41c9-cb73-48e32c08c110"
      },
      "outputs": [
        {
          "data": {
            "text/html": [
              "<style type=\"text/css\">\n",
              "</style>\n",
              "<table id=\"T_bd46a\">\n",
              "  <thead>\n",
              "    <tr>\n",
              "      <th id=\"T_bd46a_level0_col0\" class=\"col_heading level0 col0\" >Model</th>\n",
              "      <th id=\"T_bd46a_level0_col1\" class=\"col_heading level0 col1\" >Accuracy</th>\n",
              "      <th id=\"T_bd46a_level0_col2\" class=\"col_heading level0 col2\" >Recall</th>\n",
              "      <th id=\"T_bd46a_level0_col3\" class=\"col_heading level0 col3\" >Precision</th>\n",
              "      <th id=\"T_bd46a_level0_col4\" class=\"col_heading level0 col4\" >F1</th>\n",
              "    </tr>\n",
              "  </thead>\n",
              "  <tbody>\n",
              "    <tr>\n",
              "      <td id=\"T_bd46a_row0_col0\" class=\"data row0 col0\" >Decision Tree</td>\n",
              "      <td id=\"T_bd46a_row0_col1\" class=\"data row0 col1\" >0.929435</td>\n",
              "      <td id=\"T_bd46a_row0_col2\" class=\"data row0 col2\" >0.238806</td>\n",
              "      <td id=\"T_bd46a_row0_col3\" class=\"data row0 col3\" >0.219178</td>\n",
              "      <td id=\"T_bd46a_row0_col4\" class=\"data row0 col4\" >0.228571</td>\n",
              "    </tr>\n",
              "    <tr>\n",
              "      <td id=\"T_bd46a_row1_col0\" class=\"data row1 col0\" >XGBoost</td>\n",
              "      <td id=\"T_bd46a_row1_col1\" class=\"data row1 col1\" >0.952303</td>\n",
              "      <td id=\"T_bd46a_row1_col2\" class=\"data row1 col2\" >0.097015</td>\n",
              "      <td id=\"T_bd46a_row1_col3\" class=\"data row1 col3\" >0.342105</td>\n",
              "      <td id=\"T_bd46a_row1_col4\" class=\"data row1 col4\" >0.151163</td>\n",
              "    </tr>\n",
              "    <tr>\n",
              "      <td id=\"T_bd46a_row2_col0\" class=\"data row2 col0\" >Voting Classifier Soft</td>\n",
              "      <td id=\"T_bd46a_row2_col1\" class=\"data row2 col1\" >0.953937</td>\n",
              "      <td id=\"T_bd46a_row2_col2\" class=\"data row2 col2\" >0.074627</td>\n",
              "      <td id=\"T_bd46a_row2_col3\" class=\"data row2 col3\" >0.370370</td>\n",
              "      <td id=\"T_bd46a_row2_col4\" class=\"data row2 col4\" >0.124224</td>\n",
              "    </tr>\n",
              "    <tr>\n",
              "      <td id=\"T_bd46a_row3_col0\" class=\"data row3 col0\" >Random Forest</td>\n",
              "      <td id=\"T_bd46a_row3_col1\" class=\"data row3 col1\" >0.953937</td>\n",
              "      <td id=\"T_bd46a_row3_col2\" class=\"data row3 col2\" >0.067164</td>\n",
              "      <td id=\"T_bd46a_row3_col3\" class=\"data row3 col3\" >0.360000</td>\n",
              "      <td id=\"T_bd46a_row3_col4\" class=\"data row3 col4\" >0.113208</td>\n",
              "    </tr>\n",
              "    <tr>\n",
              "      <td id=\"T_bd46a_row4_col0\" class=\"data row4 col0\" >LightGBM</td>\n",
              "      <td id=\"T_bd46a_row4_col1\" class=\"data row4 col1\" >0.954263</td>\n",
              "      <td id=\"T_bd46a_row4_col2\" class=\"data row4 col2\" >0.052239</td>\n",
              "      <td id=\"T_bd46a_row4_col3\" class=\"data row4 col3\" >0.350000</td>\n",
              "      <td id=\"T_bd46a_row4_col4\" class=\"data row4 col4\" >0.090909</td>\n",
              "    </tr>\n",
              "    <tr>\n",
              "      <td id=\"T_bd46a_row5_col0\" class=\"data row5 col0\" >Voting Classifier Hard</td>\n",
              "      <td id=\"T_bd46a_row5_col1\" class=\"data row5 col1\" >0.953610</td>\n",
              "      <td id=\"T_bd46a_row5_col2\" class=\"data row5 col2\" >0.037313</td>\n",
              "      <td id=\"T_bd46a_row5_col3\" class=\"data row5 col3\" >0.277778</td>\n",
              "      <td id=\"T_bd46a_row5_col4\" class=\"data row5 col4\" >0.065789</td>\n",
              "    </tr>\n",
              "    <tr>\n",
              "      <td id=\"T_bd46a_row6_col0\" class=\"data row6 col0\" >Logistic Regression</td>\n",
              "      <td id=\"T_bd46a_row6_col1\" class=\"data row6 col1\" >0.954917</td>\n",
              "      <td id=\"T_bd46a_row6_col2\" class=\"data row6 col2\" >0.022388</td>\n",
              "      <td id=\"T_bd46a_row6_col3\" class=\"data row6 col3\" >0.300000</td>\n",
              "      <td id=\"T_bd46a_row6_col4\" class=\"data row6 col4\" >0.041667</td>\n",
              "    </tr>\n",
              "    <tr>\n",
              "      <td id=\"T_bd46a_row7_col0\" class=\"data row7 col0\" >Logistic Regression with SMOTE</td>\n",
              "      <td id=\"T_bd46a_row7_col1\" class=\"data row7 col1\" >0.954917</td>\n",
              "      <td id=\"T_bd46a_row7_col2\" class=\"data row7 col2\" >0.022388</td>\n",
              "      <td id=\"T_bd46a_row7_col3\" class=\"data row7 col3\" >0.300000</td>\n",
              "      <td id=\"T_bd46a_row7_col4\" class=\"data row7 col4\" >0.041667</td>\n",
              "    </tr>\n",
              "  </tbody>\n",
              "</table>\n"
            ],
            "text/plain": [
              "<pandas.io.formats.style.Styler at 0x185a5d8d100>"
            ]
          },
          "execution_count": 234,
          "metadata": {},
          "output_type": "execute_result"
        }
      ],
      "source": [
        "prediction_base = pd.concat(predictions, ignore_index=True, sort=False)\n",
        "prediction_base = prediction_base.sort_values(by=['Recall'], ascending=False).style.hide(axis='index')\n",
        "prediction_base"
      ]
    },
    {
      "cell_type": "code",
      "execution_count": 235,
      "metadata": {
        "colab": {
          "base_uri": "https://localhost:8080/"
        },
        "id": "_UyviGXZdBHg",
        "outputId": "9b7eddf4-f42f-4d40-871d-7b55883b2b68"
      },
      "outputs": [
        {
          "data": {
            "text/plain": [
              "Index(['id', 'gender', 'age', 'hypertension', 'heart_disease', 'ever_married',\n",
              "       'work_type', 'Residence_type', 'avg_glucose_level', 'bmi',\n",
              "       'smoking_status', 'stroke'],\n",
              "      dtype='object')"
            ]
          },
          "execution_count": 235,
          "metadata": {},
          "output_type": "execute_result"
        }
      ],
      "source": [
        "train_df.columns"
      ]
    },
    {
      "cell_type": "code",
      "execution_count": 236,
      "metadata": {
        "id": "EnGKtEjBdHmU"
      },
      "outputs": [],
      "source": [
        "single_inputs = {\n",
        "    'gender': 'Male',\n",
        "    'age': 50.0,\n",
        "    'hypertension': 0,\n",
        "    'heart_disease': 0,\n",
        "    'ever_married': 'Yes',\n",
        "    'work_type': 'Private',\n",
        "    'Residence_type': 'Urban',\n",
        "    'avg_glucose_level': 79.0,\n",
        "    'bmi': 30.0,\n",
        "    'smoking_status': 'formerly smoked'\n",
        "}\n"
      ]
    },
    {
      "cell_type": "code",
      "execution_count": 237,
      "metadata": {
        "id": "dkCmyP61dVuS"
      },
      "outputs": [],
      "source": [
        "input_df = pd.DataFrame([single_inputs])"
      ]
    },
    {
      "cell_type": "code",
      "execution_count": 238,
      "metadata": {
        "id": "HVJ5GabqdaYt"
      },
      "outputs": [],
      "source": [
        "input_df[encoded_cols]= preprocessor.transform(input_df)"
      ]
    },
    {
      "cell_type": "code",
      "execution_count": 239,
      "metadata": {
        "id": "baMAN1IjEX5A"
      },
      "outputs": [],
      "source": [
        "X = input_df[numerical_cols+encoded_cols]\n"
      ]
    },
    {
      "cell_type": "code",
      "execution_count": 240,
      "metadata": {
        "colab": {
          "base_uri": "https://localhost:8080/"
        },
        "id": "otBFDi_OEeM3",
        "outputId": "52627996-c38c-412e-e3a8-c6f0653fc4ea"
      },
      "outputs": [
        {
          "data": {
            "text/plain": [
              "array([0], dtype=int64)"
            ]
          },
          "execution_count": 240,
          "metadata": {},
          "output_type": "execute_result"
        }
      ],
      "source": [
        "lr_with_smote.predict(X)"
      ]
    },
    {
      "cell_type": "code",
      "execution_count": 241,
      "metadata": {
        "id": "RxdV9clsFdUS"
      },
      "outputs": [],
      "source": [
        "import joblib"
      ]
    },
    {
      "cell_type": "code",
      "execution_count": 242,
      "metadata": {
        "id": "CF-T8siqHlst"
      },
      "outputs": [],
      "source": [
        "model={\n",
        "    'model': lr_with_smote,\n",
        "    'preprocessor': preprocessor,\n",
        "    'numerical_cols': numerical_cols,\n",
        "    'categorical_cols': categorical_cols,\n",
        "    'encoded_cols': encoded_cols,\n",
        "    'target_col': target_col\n",
        "}"
      ]
    },
    {
      "cell_type": "code",
      "execution_count": 243,
      "metadata": {
        "colab": {
          "base_uri": "https://localhost:8080/"
        },
        "id": "GkwDKwleMBUb",
        "outputId": "0893b753-a03a-4709-c3ae-a94ead406f48"
      },
      "outputs": [
        {
          "data": {
            "text/plain": [
              "['model.joblib']"
            ]
          },
          "execution_count": 243,
          "metadata": {},
          "output_type": "execute_result"
        }
      ],
      "source": [
        "joblib.dump(model, 'model.joblib')"
      ]
    },
    {
      "cell_type": "code",
      "execution_count": null,
      "metadata": {
        "id": "mTfKdlaKMNlU"
      },
      "outputs": [],
      "source": []
    },
    {
      "cell_type": "code",
      "execution_count": null,
      "metadata": {},
      "outputs": [],
      "source": []
    },
    {
      "cell_type": "code",
      "execution_count": null,
      "metadata": {},
      "outputs": [],
      "source": []
    },
    {
      "cell_type": "code",
      "execution_count": null,
      "metadata": {},
      "outputs": [],
      "source": []
    }
  ],
  "metadata": {
    "colab": {
      "provenance": []
    },
    "kernelspec": {
      "display_name": ".venv",
      "language": "python",
      "name": "python3"
    },
    "language_info": {
      "codemirror_mode": {
        "name": "ipython",
        "version": 3
      },
      "file_extension": ".py",
      "mimetype": "text/x-python",
      "name": "python",
      "nbconvert_exporter": "python",
      "pygments_lexer": "ipython3",
      "version": "3.8.10"
    }
  },
  "nbformat": 4,
  "nbformat_minor": 0
}
